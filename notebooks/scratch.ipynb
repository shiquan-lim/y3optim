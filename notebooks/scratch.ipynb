{
 "cells": [
  {
   "cell_type": "code",
   "execution_count": 3,
   "metadata": {
    "collapsed": false
   },
   "outputs": [],
   "source": [
    "import docplex"
   ]
  },
  {
   "cell_type": "code",
   "execution_count": 4,
   "metadata": {
    "collapsed": false
   },
   "outputs": [
    {
     "name": "stdout",
     "output_type": "stream",
     "text": [
      "Hello world\n"
     ]
    }
   ],
   "source": [
    "# Test db connection\n",
    "\n",
    "from scipy import *\n",
    "import psycopg2\n",
    "\n",
    "hostname = 'y3optim.cnlc0eowtsp7.ap-southeast-1.rds.amazonaws.com'\n",
    "user = 'limshiq'\n",
    "password = 'awesomeSQ'\n",
    "dbname = 'y3optim'\n",
    "\n",
    "def doQuery( conn ) :\n",
    "    cur = conn.cursor()\n",
    "\n",
    "    # cur.execute()\n",
    "\n",
    "    # for firstname, lastname in cur.fetchall() :\n",
    "    #     print firstname, lastname\n",
    "\n",
    "print (\"Hello world\")\n",
    "myConnection = psycopg2.connect( host=hostname, user=user, password=password, dbname=dbname )\n",
    "doQuery( myConnection )\n",
    "myConnection.close()"
   ]
  },
  {
   "cell_type": "code",
   "execution_count": null,
   "metadata": {
    "collapsed": true
   },
   "outputs": [],
   "source": []
  }
 ],
 "metadata": {
  "anaconda-cloud": {},
  "kernelspec": {
   "display_name": "Python [conda env:y3optim]",
   "language": "python",
   "name": "conda-env-y3optim-py"
  },
  "language_info": {
   "codemirror_mode": {
    "name": "ipython",
    "version": 3
   },
   "file_extension": ".py",
   "mimetype": "text/x-python",
   "name": "python",
   "nbconvert_exporter": "python",
   "pygments_lexer": "ipython3",
   "version": "3.5.3"
  }
 },
 "nbformat": 4,
 "nbformat_minor": 2
}
