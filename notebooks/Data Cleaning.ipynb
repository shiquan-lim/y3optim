{
 "cells": [
  {
   "cell_type": "code",
   "execution_count": 1,
   "metadata": {
    "collapsed": false
   },
   "outputs": [],
   "source": [
    "# imports\n",
    "import pandas as pd\n",
    "import numpy as np\n",
    "from datetime import datetime"
   ]
  },
  {
   "cell_type": "code",
   "execution_count": 2,
   "metadata": {
    "collapsed": false,
    "scrolled": true
   },
   "outputs": [
    {
     "data": {
      "text/html": [
       "<div>\n",
       "<table border=\"1\" class=\"dataframe\">\n",
       "  <thead>\n",
       "    <tr style=\"text-align: right;\">\n",
       "      <th></th>\n",
       "      <th>Customer ID</th>\n",
       "      <th>Age</th>\n",
       "      <th>Gender</th>\n",
       "      <th>Transact ID</th>\n",
       "      <th>Transact Date</th>\n",
       "      <th>Transact Time</th>\n",
       "      <th>Outlet</th>\n",
       "      <th>Outlet District</th>\n",
       "      <th>Transact Details ID</th>\n",
       "      <th>Item</th>\n",
       "      <th>Item Description</th>\n",
       "      <th>Quantity</th>\n",
       "      <th>Price</th>\n",
       "      <th>Spending</th>\n",
       "    </tr>\n",
       "  </thead>\n",
       "  <tbody>\n",
       "    <tr>\n",
       "      <th>0</th>\n",
       "      <td>57618</td>\n",
       "      <td>58.0</td>\n",
       "      <td>F</td>\n",
       "      <td>183003</td>\n",
       "      <td>1/1/16</td>\n",
       "      <td>12:01:48 AM</td>\n",
       "      <td>Outlet 17</td>\n",
       "      <td>5</td>\n",
       "      <td>537557</td>\n",
       "      <td>215A</td>\n",
       "      <td>Pork Chop Noodle</td>\n",
       "      <td>1</td>\n",
       "      <td>13.94</td>\n",
       "      <td>13.94</td>\n",
       "    </tr>\n",
       "    <tr>\n",
       "      <th>1</th>\n",
       "      <td>57618</td>\n",
       "      <td>58.0</td>\n",
       "      <td>F</td>\n",
       "      <td>183003</td>\n",
       "      <td>1/1/16</td>\n",
       "      <td>12:01:48 AM</td>\n",
       "      <td>Outlet 17</td>\n",
       "      <td>5</td>\n",
       "      <td>537555</td>\n",
       "      <td>34</td>\n",
       "      <td>Fish &amp; Chips</td>\n",
       "      <td>1</td>\n",
       "      <td>13.94</td>\n",
       "      <td>13.94</td>\n",
       "    </tr>\n",
       "    <tr>\n",
       "      <th>2</th>\n",
       "      <td>54234</td>\n",
       "      <td>40.0</td>\n",
       "      <td>NaN</td>\n",
       "      <td>183005</td>\n",
       "      <td>1/1/16</td>\n",
       "      <td>12:03:32 AM</td>\n",
       "      <td>Outlet 11</td>\n",
       "      <td>27</td>\n",
       "      <td>537565</td>\n",
       "      <td>552</td>\n",
       "      <td>Mango Pomelo</td>\n",
       "      <td>1</td>\n",
       "      <td>8.36</td>\n",
       "      <td>8.36</td>\n",
       "    </tr>\n",
       "    <tr>\n",
       "      <th>3</th>\n",
       "      <td>54234</td>\n",
       "      <td>40.0</td>\n",
       "      <td>NaN</td>\n",
       "      <td>183005</td>\n",
       "      <td>1/1/16</td>\n",
       "      <td>12:03:32 AM</td>\n",
       "      <td>Outlet 11</td>\n",
       "      <td>27</td>\n",
       "      <td>537564</td>\n",
       "      <td>215B</td>\n",
       "      <td>Pork Chop Bee Hoon</td>\n",
       "      <td>1</td>\n",
       "      <td>13.94</td>\n",
       "      <td>13.94</td>\n",
       "    </tr>\n",
       "    <tr>\n",
       "      <th>4</th>\n",
       "      <td>73173</td>\n",
       "      <td>30.0</td>\n",
       "      <td>NaN</td>\n",
       "      <td>183010</td>\n",
       "      <td>1/1/16</td>\n",
       "      <td>12:14:51 AM</td>\n",
       "      <td>Outlet 14</td>\n",
       "      <td>16</td>\n",
       "      <td>537571</td>\n",
       "      <td>127</td>\n",
       "      <td>Borsch Soup</td>\n",
       "      <td>2</td>\n",
       "      <td>5.94</td>\n",
       "      <td>11.88</td>\n",
       "    </tr>\n",
       "  </tbody>\n",
       "</table>\n",
       "</div>"
      ],
      "text/plain": [
       "   Customer ID   Age Gender  Transact ID Transact Date Transact Time  \\\n",
       "0        57618  58.0      F       183003        1/1/16   12:01:48 AM   \n",
       "1        57618  58.0      F       183003        1/1/16   12:01:48 AM   \n",
       "2        54234  40.0    NaN       183005        1/1/16   12:03:32 AM   \n",
       "3        54234  40.0    NaN       183005        1/1/16   12:03:32 AM   \n",
       "4        73173  30.0    NaN       183010        1/1/16   12:14:51 AM   \n",
       "\n",
       "      Outlet  Outlet District  Transact Details ID           Item  \\\n",
       "0  Outlet 17                5               537557  215A            \n",
       "1  Outlet 17                5               537555             34   \n",
       "2  Outlet 11               27               537565            552   \n",
       "3  Outlet 11               27               537564  215B            \n",
       "4  Outlet 14               16               537571            127   \n",
       "\n",
       "     Item Description  Quantity  Price  Spending  \n",
       "0    Pork Chop Noodle         1  13.94     13.94  \n",
       "1        Fish & Chips         1  13.94     13.94  \n",
       "2        Mango Pomelo         1   8.36      8.36  \n",
       "3  Pork Chop Bee Hoon         1  13.94     13.94  \n",
       "4         Borsch Soup         2   5.94     11.88  "
      ]
     },
     "execution_count": 2,
     "metadata": {},
     "output_type": "execute_result"
    }
   ],
   "source": [
    "# Pull in the data\n",
    "file = \"../data/data.csv\"\n",
    "df_transactions = pd.read_csv(file)\n",
    "df_transactions.head()"
   ]
  },
  {
   "cell_type": "code",
   "execution_count": 3,
   "metadata": {
    "collapsed": false
   },
   "outputs": [],
   "source": [
    "mean = 38\n",
    "sd = 11"
   ]
  },
  {
   "cell_type": "code",
   "execution_count": 4,
   "metadata": {
    "collapsed": false,
    "scrolled": true
   },
   "outputs": [],
   "source": [
    "df_customer = pd.DataFrame()\n",
    "df_customer[\"customerID\"] = df_transactions[\"Customer ID\"]\n",
    "df_customer[\"age\"] = df_transactions[\"Age\"]\n",
    "df_customer[\"gender\"] = df_transactions[\"Gender\"]"
   ]
  },
  {
   "cell_type": "code",
   "execution_count": 5,
   "metadata": {
    "collapsed": false,
    "scrolled": false
   },
   "outputs": [
    {
     "name": "stdout",
     "output_type": "stream",
     "text": [
      "Customer table size  556580\n",
      "Customer table size after removing duplicates  44414\n"
     ]
    }
   ],
   "source": [
    "print(\"Customer table size \", len(df_customer.index))\n",
    "df_customer = df_customer.drop_duplicates(keep='first')\n",
    "print(\"Customer table size after removing duplicates \", len(df_customer.index))"
   ]
  },
  {
   "cell_type": "code",
   "execution_count": 6,
   "metadata": {
    "collapsed": false,
    "scrolled": true
   },
   "outputs": [
    {
     "data": {
      "text/plain": [
       "116.0"
      ]
     },
     "execution_count": 6,
     "metadata": {},
     "output_type": "execute_result"
    }
   ],
   "source": [
    "df_customer['age'].min()\n",
    "df_customer['age'].max()"
   ]
  },
  {
   "cell_type": "code",
   "execution_count": 7,
   "metadata": {
    "collapsed": true
   },
   "outputs": [],
   "source": [
    "df_customer['age'] = pd.to_numeric(df_customer['age'])\n",
    "df_customer['age'] = df_customer['age'].fillna(value=0)\n",
    "df_customer['gender'] = df_customer['gender'].fillna(value=\"NA\")"
   ]
  },
  {
   "cell_type": "code",
   "execution_count": 8,
   "metadata": {
    "collapsed": false
   },
   "outputs": [
    {
     "name": "stdout",
     "output_type": "stream",
     "text": [
      "Mean:  37.3733306078  SD:  11.9079709467\n"
     ]
    }
   ],
   "source": [
    "mean = df_customer[\"age\"].ix[(df_customer[\"age\"] >= 6) & (df_customer[\"age\"] <= 88)].mean()\n",
    "sd = df_customer[\"age\"].ix[(df_customer[\"age\"] >= 6) & (df_customer[\"age\"] <= 88)].std()\n",
    "print(\"Mean: \", mean, \" SD: \", sd)"
   ]
  },
  {
   "cell_type": "code",
   "execution_count": 9,
   "metadata": {
    "collapsed": false
   },
   "outputs": [],
   "source": [
    "\n",
    "def assignAge(d):\n",
    "    while(d < 6 or d > 88):\n",
    "        d = np.random.normal(mean, sd, 1)[0]\n",
    "    return int(d)\n",
    "        \n",
    "df_customer[\"age\"] = df_customer[\"age\"].apply(assignAge)"
   ]
  },
  {
   "cell_type": "code",
   "execution_count": 10,
   "metadata": {
    "collapsed": false,
    "scrolled": false
   },
   "outputs": [
    {
     "data": {
      "text/html": [
       "<div>\n",
       "<table border=\"1\" class=\"dataframe\">\n",
       "  <thead>\n",
       "    <tr style=\"text-align: right;\">\n",
       "      <th></th>\n",
       "      <th>customerID</th>\n",
       "      <th>age</th>\n",
       "      <th>gender</th>\n",
       "    </tr>\n",
       "  </thead>\n",
       "  <tbody>\n",
       "    <tr>\n",
       "      <th>23291</th>\n",
       "      <td>66515</td>\n",
       "      <td>28</td>\n",
       "      <td>NA</td>\n",
       "    </tr>\n",
       "  </tbody>\n",
       "</table>\n",
       "</div>"
      ],
      "text/plain": [
       "       customerID  age gender\n",
       "23291       66515   28     NA"
      ]
     },
     "execution_count": 10,
     "metadata": {},
     "output_type": "execute_result"
    }
   ],
   "source": [
    "df_customer.ix[df_customer[\"customerID\"] == 66515]"
   ]
  },
  {
   "cell_type": "code",
   "execution_count": 11,
   "metadata": {
    "collapsed": false,
    "scrolled": true
   },
   "outputs": [
    {
     "data": {
      "text/plain": [
       "39.6953585646771"
      ]
     },
     "execution_count": 11,
     "metadata": {},
     "output_type": "execute_result"
    }
   ],
   "source": [
    "np.random.normal(mean, sd, 1)[0]"
   ]
  },
  {
   "cell_type": "code",
   "execution_count": 12,
   "metadata": {
    "collapsed": false
   },
   "outputs": [],
   "source": [
    "def age_group(d):\n",
    "    if d <= 18:\n",
    "        return \"YOUTH\"\n",
    "    elif d <= 35 and d > 18:\n",
    "        return \"ADULT\"\n",
    "    elif d <= 50 and d > 35:\n",
    "        return \"MIDDLE-AGED\"\n",
    "    else:\n",
    "        return \"SENIOR\"\n",
    "\n",
    "df_customer['age_group'] = df_customer['age'].apply(age_group)"
   ]
  },
  {
   "cell_type": "code",
   "execution_count": 13,
   "metadata": {
    "collapsed": false
   },
   "outputs": [
    {
     "data": {
      "text/plain": [
       "Transact ID\n",
       "183003     27.88\n",
       "183005     22.30\n",
       "183010     60.73\n",
       "183017     71.03\n",
       "183020     12.24\n",
       "183028     29.69\n",
       "183030     25.94\n",
       "183032     41.33\n",
       "183034     37.45\n",
       "183048    152.85\n",
       "183056     25.82\n",
       "183058     70.78\n",
       "183060     35.39\n",
       "183062     20.85\n",
       "183066     20.96\n",
       "183070     37.81\n",
       "183076     40.12\n",
       "183082     25.94\n",
       "183086      4.73\n",
       "183092     16.61\n",
       "183093     17.45\n",
       "183095     18.78\n",
       "183104     39.15\n",
       "183113     14.91\n",
       "183116     56.60\n",
       "183127     37.58\n",
       "183146     33.46\n",
       "183152     86.66\n",
       "183160     34.91\n",
       "183163      5.94\n",
       "           ...  \n",
       "601782     55.76\n",
       "601785     34.43\n",
       "601789     29.94\n",
       "601790     21.82\n",
       "601791    196.47\n",
       "601793     31.27\n",
       "601795     19.39\n",
       "601796     52.85\n",
       "601800     62.18\n",
       "601805     15.03\n",
       "601815     34.91\n",
       "601816     22.55\n",
       "601817     50.79\n",
       "601819     25.34\n",
       "601821     40.86\n",
       "601825      6.67\n",
       "601827     23.89\n",
       "601828     84.12\n",
       "601830     21.45\n",
       "601835     12.00\n",
       "601837     41.45\n",
       "601839      5.94\n",
       "601842      9.82\n",
       "601843     48.98\n",
       "601849     11.88\n",
       "601850     25.95\n",
       "601852     37.69\n",
       "601854      8.49\n",
       "601858     40.00\n",
       "601860     60.85\n",
       "Name: Spending, dtype: float64"
      ]
     },
     "execution_count": 13,
     "metadata": {},
     "output_type": "execute_result"
    }
   ],
   "source": [
    "df_transactions.groupby('Transact ID')['Spending'].sum()"
   ]
  },
  {
   "cell_type": "code",
   "execution_count": 14,
   "metadata": {
    "collapsed": false
   },
   "outputs": [],
   "source": [
    "del df_customer['gender']"
   ]
  },
  {
   "cell_type": "code",
   "execution_count": 15,
   "metadata": {
    "collapsed": false
   },
   "outputs": [],
   "source": [
    "df_customer.to_csv(\"../data/customer.csv\")"
   ]
  },
  {
   "cell_type": "code",
   "execution_count": 16,
   "metadata": {
    "collapsed": false
   },
   "outputs": [
    {
     "data": {
      "text/html": [
       "<div>\n",
       "<table border=\"1\" class=\"dataframe\">\n",
       "  <thead>\n",
       "    <tr style=\"text-align: right;\">\n",
       "      <th></th>\n",
       "      <th>customerID</th>\n",
       "      <th>age</th>\n",
       "      <th>age_group</th>\n",
       "    </tr>\n",
       "  </thead>\n",
       "  <tbody>\n",
       "    <tr>\n",
       "      <th>0</th>\n",
       "      <td>57618</td>\n",
       "      <td>58</td>\n",
       "      <td>SENIOR</td>\n",
       "    </tr>\n",
       "    <tr>\n",
       "      <th>2</th>\n",
       "      <td>54234</td>\n",
       "      <td>40</td>\n",
       "      <td>MIDDLE-AGED</td>\n",
       "    </tr>\n",
       "    <tr>\n",
       "      <th>4</th>\n",
       "      <td>73173</td>\n",
       "      <td>30</td>\n",
       "      <td>ADULT</td>\n",
       "    </tr>\n",
       "    <tr>\n",
       "      <th>9</th>\n",
       "      <td>73083</td>\n",
       "      <td>57</td>\n",
       "      <td>SENIOR</td>\n",
       "    </tr>\n",
       "    <tr>\n",
       "      <th>17</th>\n",
       "      <td>56459</td>\n",
       "      <td>39</td>\n",
       "      <td>MIDDLE-AGED</td>\n",
       "    </tr>\n",
       "    <tr>\n",
       "      <th>20</th>\n",
       "      <td>58559</td>\n",
       "      <td>58</td>\n",
       "      <td>SENIOR</td>\n",
       "    </tr>\n",
       "    <tr>\n",
       "      <th>23</th>\n",
       "      <td>58920</td>\n",
       "      <td>32</td>\n",
       "      <td>ADULT</td>\n",
       "    </tr>\n",
       "    <tr>\n",
       "      <th>27</th>\n",
       "      <td>51539</td>\n",
       "      <td>30</td>\n",
       "      <td>ADULT</td>\n",
       "    </tr>\n",
       "    <tr>\n",
       "      <th>34</th>\n",
       "      <td>58537</td>\n",
       "      <td>27</td>\n",
       "      <td>ADULT</td>\n",
       "    </tr>\n",
       "    <tr>\n",
       "      <th>37</th>\n",
       "      <td>58533</td>\n",
       "      <td>31</td>\n",
       "      <td>ADULT</td>\n",
       "    </tr>\n",
       "    <tr>\n",
       "      <th>44</th>\n",
       "      <td>74251</td>\n",
       "      <td>31</td>\n",
       "      <td>ADULT</td>\n",
       "    </tr>\n",
       "    <tr>\n",
       "      <th>54</th>\n",
       "      <td>59685</td>\n",
       "      <td>31</td>\n",
       "      <td>ADULT</td>\n",
       "    </tr>\n",
       "    <tr>\n",
       "      <th>58</th>\n",
       "      <td>54242</td>\n",
       "      <td>35</td>\n",
       "      <td>ADULT</td>\n",
       "    </tr>\n",
       "    <tr>\n",
       "      <th>63</th>\n",
       "      <td>52673</td>\n",
       "      <td>45</td>\n",
       "      <td>MIDDLE-AGED</td>\n",
       "    </tr>\n",
       "    <tr>\n",
       "      <th>68</th>\n",
       "      <td>79349</td>\n",
       "      <td>48</td>\n",
       "      <td>MIDDLE-AGED</td>\n",
       "    </tr>\n",
       "    <tr>\n",
       "      <th>74</th>\n",
       "      <td>68332</td>\n",
       "      <td>59</td>\n",
       "      <td>SENIOR</td>\n",
       "    </tr>\n",
       "    <tr>\n",
       "      <th>82</th>\n",
       "      <td>52749</td>\n",
       "      <td>60</td>\n",
       "      <td>SENIOR</td>\n",
       "    </tr>\n",
       "    <tr>\n",
       "      <th>87</th>\n",
       "      <td>62819</td>\n",
       "      <td>26</td>\n",
       "      <td>ADULT</td>\n",
       "    </tr>\n",
       "    <tr>\n",
       "      <th>89</th>\n",
       "      <td>59835</td>\n",
       "      <td>37</td>\n",
       "      <td>MIDDLE-AGED</td>\n",
       "    </tr>\n",
       "    <tr>\n",
       "      <th>93</th>\n",
       "      <td>54582</td>\n",
       "      <td>32</td>\n",
       "      <td>ADULT</td>\n",
       "    </tr>\n",
       "    <tr>\n",
       "      <th>96</th>\n",
       "      <td>154722</td>\n",
       "      <td>35</td>\n",
       "      <td>ADULT</td>\n",
       "    </tr>\n",
       "    <tr>\n",
       "      <th>99</th>\n",
       "      <td>68370</td>\n",
       "      <td>38</td>\n",
       "      <td>MIDDLE-AGED</td>\n",
       "    </tr>\n",
       "    <tr>\n",
       "      <th>104</th>\n",
       "      <td>71564</td>\n",
       "      <td>38</td>\n",
       "      <td>MIDDLE-AGED</td>\n",
       "    </tr>\n",
       "    <tr>\n",
       "      <th>108</th>\n",
       "      <td>50972</td>\n",
       "      <td>58</td>\n",
       "      <td>SENIOR</td>\n",
       "    </tr>\n",
       "    <tr>\n",
       "      <th>116</th>\n",
       "      <td>64420</td>\n",
       "      <td>37</td>\n",
       "      <td>MIDDLE-AGED</td>\n",
       "    </tr>\n",
       "    <tr>\n",
       "      <th>123</th>\n",
       "      <td>59632</td>\n",
       "      <td>47</td>\n",
       "      <td>MIDDLE-AGED</td>\n",
       "    </tr>\n",
       "    <tr>\n",
       "      <th>127</th>\n",
       "      <td>72495</td>\n",
       "      <td>34</td>\n",
       "      <td>ADULT</td>\n",
       "    </tr>\n",
       "    <tr>\n",
       "      <th>135</th>\n",
       "      <td>57821</td>\n",
       "      <td>25</td>\n",
       "      <td>ADULT</td>\n",
       "    </tr>\n",
       "    <tr>\n",
       "      <th>137</th>\n",
       "      <td>56209</td>\n",
       "      <td>48</td>\n",
       "      <td>MIDDLE-AGED</td>\n",
       "    </tr>\n",
       "    <tr>\n",
       "      <th>144</th>\n",
       "      <td>53029</td>\n",
       "      <td>45</td>\n",
       "      <td>MIDDLE-AGED</td>\n",
       "    </tr>\n",
       "    <tr>\n",
       "      <th>...</th>\n",
       "      <td>...</td>\n",
       "      <td>...</td>\n",
       "      <td>...</td>\n",
       "    </tr>\n",
       "    <tr>\n",
       "      <th>555998</th>\n",
       "      <td>204738</td>\n",
       "      <td>26</td>\n",
       "      <td>ADULT</td>\n",
       "    </tr>\n",
       "    <tr>\n",
       "      <th>556009</th>\n",
       "      <td>201566</td>\n",
       "      <td>44</td>\n",
       "      <td>MIDDLE-AGED</td>\n",
       "    </tr>\n",
       "    <tr>\n",
       "      <th>556050</th>\n",
       "      <td>205713</td>\n",
       "      <td>44</td>\n",
       "      <td>MIDDLE-AGED</td>\n",
       "    </tr>\n",
       "    <tr>\n",
       "      <th>556073</th>\n",
       "      <td>205714</td>\n",
       "      <td>52</td>\n",
       "      <td>SENIOR</td>\n",
       "    </tr>\n",
       "    <tr>\n",
       "      <th>556075</th>\n",
       "      <td>199111</td>\n",
       "      <td>50</td>\n",
       "      <td>MIDDLE-AGED</td>\n",
       "    </tr>\n",
       "    <tr>\n",
       "      <th>556110</th>\n",
       "      <td>195554</td>\n",
       "      <td>18</td>\n",
       "      <td>YOUTH</td>\n",
       "    </tr>\n",
       "    <tr>\n",
       "      <th>556124</th>\n",
       "      <td>202437</td>\n",
       "      <td>34</td>\n",
       "      <td>ADULT</td>\n",
       "    </tr>\n",
       "    <tr>\n",
       "      <th>556148</th>\n",
       "      <td>190981</td>\n",
       "      <td>29</td>\n",
       "      <td>ADULT</td>\n",
       "    </tr>\n",
       "    <tr>\n",
       "      <th>556187</th>\n",
       "      <td>200918</td>\n",
       "      <td>35</td>\n",
       "      <td>ADULT</td>\n",
       "    </tr>\n",
       "    <tr>\n",
       "      <th>556188</th>\n",
       "      <td>195555</td>\n",
       "      <td>38</td>\n",
       "      <td>MIDDLE-AGED</td>\n",
       "    </tr>\n",
       "    <tr>\n",
       "      <th>556192</th>\n",
       "      <td>204739</td>\n",
       "      <td>53</td>\n",
       "      <td>SENIOR</td>\n",
       "    </tr>\n",
       "    <tr>\n",
       "      <th>556201</th>\n",
       "      <td>205715</td>\n",
       "      <td>20</td>\n",
       "      <td>ADULT</td>\n",
       "    </tr>\n",
       "    <tr>\n",
       "      <th>556203</th>\n",
       "      <td>203269</td>\n",
       "      <td>22</td>\n",
       "      <td>ADULT</td>\n",
       "    </tr>\n",
       "    <tr>\n",
       "      <th>556224</th>\n",
       "      <td>205717</td>\n",
       "      <td>27</td>\n",
       "      <td>ADULT</td>\n",
       "    </tr>\n",
       "    <tr>\n",
       "      <th>556227</th>\n",
       "      <td>74277</td>\n",
       "      <td>24</td>\n",
       "      <td>ADULT</td>\n",
       "    </tr>\n",
       "    <tr>\n",
       "      <th>556253</th>\n",
       "      <td>200919</td>\n",
       "      <td>36</td>\n",
       "      <td>MIDDLE-AGED</td>\n",
       "    </tr>\n",
       "    <tr>\n",
       "      <th>556294</th>\n",
       "      <td>200917</td>\n",
       "      <td>58</td>\n",
       "      <td>SENIOR</td>\n",
       "    </tr>\n",
       "    <tr>\n",
       "      <th>556298</th>\n",
       "      <td>200920</td>\n",
       "      <td>40</td>\n",
       "      <td>MIDDLE-AGED</td>\n",
       "    </tr>\n",
       "    <tr>\n",
       "      <th>556299</th>\n",
       "      <td>201000</td>\n",
       "      <td>22</td>\n",
       "      <td>ADULT</td>\n",
       "    </tr>\n",
       "    <tr>\n",
       "      <th>556326</th>\n",
       "      <td>194800</td>\n",
       "      <td>41</td>\n",
       "      <td>MIDDLE-AGED</td>\n",
       "    </tr>\n",
       "    <tr>\n",
       "      <th>556335</th>\n",
       "      <td>205716</td>\n",
       "      <td>63</td>\n",
       "      <td>SENIOR</td>\n",
       "    </tr>\n",
       "    <tr>\n",
       "      <th>556389</th>\n",
       "      <td>205720</td>\n",
       "      <td>32</td>\n",
       "      <td>ADULT</td>\n",
       "    </tr>\n",
       "    <tr>\n",
       "      <th>556399</th>\n",
       "      <td>192094</td>\n",
       "      <td>21</td>\n",
       "      <td>ADULT</td>\n",
       "    </tr>\n",
       "    <tr>\n",
       "      <th>556406</th>\n",
       "      <td>197313</td>\n",
       "      <td>43</td>\n",
       "      <td>MIDDLE-AGED</td>\n",
       "    </tr>\n",
       "    <tr>\n",
       "      <th>556415</th>\n",
       "      <td>201002</td>\n",
       "      <td>18</td>\n",
       "      <td>YOUTH</td>\n",
       "    </tr>\n",
       "    <tr>\n",
       "      <th>556419</th>\n",
       "      <td>200914</td>\n",
       "      <td>47</td>\n",
       "      <td>MIDDLE-AGED</td>\n",
       "    </tr>\n",
       "    <tr>\n",
       "      <th>556450</th>\n",
       "      <td>205719</td>\n",
       "      <td>42</td>\n",
       "      <td>MIDDLE-AGED</td>\n",
       "    </tr>\n",
       "    <tr>\n",
       "      <th>556490</th>\n",
       "      <td>201001</td>\n",
       "      <td>26</td>\n",
       "      <td>ADULT</td>\n",
       "    </tr>\n",
       "    <tr>\n",
       "      <th>556525</th>\n",
       "      <td>201004</td>\n",
       "      <td>24</td>\n",
       "      <td>ADULT</td>\n",
       "    </tr>\n",
       "    <tr>\n",
       "      <th>556537</th>\n",
       "      <td>195556</td>\n",
       "      <td>26</td>\n",
       "      <td>ADULT</td>\n",
       "    </tr>\n",
       "  </tbody>\n",
       "</table>\n",
       "<p>44414 rows × 3 columns</p>\n",
       "</div>"
      ],
      "text/plain": [
       "        customerID  age    age_group\n",
       "0            57618   58       SENIOR\n",
       "2            54234   40  MIDDLE-AGED\n",
       "4            73173   30        ADULT\n",
       "9            73083   57       SENIOR\n",
       "17           56459   39  MIDDLE-AGED\n",
       "20           58559   58       SENIOR\n",
       "23           58920   32        ADULT\n",
       "27           51539   30        ADULT\n",
       "34           58537   27        ADULT\n",
       "37           58533   31        ADULT\n",
       "44           74251   31        ADULT\n",
       "54           59685   31        ADULT\n",
       "58           54242   35        ADULT\n",
       "63           52673   45  MIDDLE-AGED\n",
       "68           79349   48  MIDDLE-AGED\n",
       "74           68332   59       SENIOR\n",
       "82           52749   60       SENIOR\n",
       "87           62819   26        ADULT\n",
       "89           59835   37  MIDDLE-AGED\n",
       "93           54582   32        ADULT\n",
       "96          154722   35        ADULT\n",
       "99           68370   38  MIDDLE-AGED\n",
       "104          71564   38  MIDDLE-AGED\n",
       "108          50972   58       SENIOR\n",
       "116          64420   37  MIDDLE-AGED\n",
       "123          59632   47  MIDDLE-AGED\n",
       "127          72495   34        ADULT\n",
       "135          57821   25        ADULT\n",
       "137          56209   48  MIDDLE-AGED\n",
       "144          53029   45  MIDDLE-AGED\n",
       "...            ...  ...          ...\n",
       "555998      204738   26        ADULT\n",
       "556009      201566   44  MIDDLE-AGED\n",
       "556050      205713   44  MIDDLE-AGED\n",
       "556073      205714   52       SENIOR\n",
       "556075      199111   50  MIDDLE-AGED\n",
       "556110      195554   18        YOUTH\n",
       "556124      202437   34        ADULT\n",
       "556148      190981   29        ADULT\n",
       "556187      200918   35        ADULT\n",
       "556188      195555   38  MIDDLE-AGED\n",
       "556192      204739   53       SENIOR\n",
       "556201      205715   20        ADULT\n",
       "556203      203269   22        ADULT\n",
       "556224      205717   27        ADULT\n",
       "556227       74277   24        ADULT\n",
       "556253      200919   36  MIDDLE-AGED\n",
       "556294      200917   58       SENIOR\n",
       "556298      200920   40  MIDDLE-AGED\n",
       "556299      201000   22        ADULT\n",
       "556326      194800   41  MIDDLE-AGED\n",
       "556335      205716   63       SENIOR\n",
       "556389      205720   32        ADULT\n",
       "556399      192094   21        ADULT\n",
       "556406      197313   43  MIDDLE-AGED\n",
       "556415      201002   18        YOUTH\n",
       "556419      200914   47  MIDDLE-AGED\n",
       "556450      205719   42  MIDDLE-AGED\n",
       "556490      201001   26        ADULT\n",
       "556525      201004   24        ADULT\n",
       "556537      195556   26        ADULT\n",
       "\n",
       "[44414 rows x 3 columns]"
      ]
     },
     "execution_count": 16,
     "metadata": {},
     "output_type": "execute_result"
    }
   ],
   "source": [
    "df_customer"
   ]
  },
  {
   "cell_type": "code",
   "execution_count": 17,
   "metadata": {
    "collapsed": false
   },
   "outputs": [],
   "source": [
    "# Rename values in transactions\n",
    "# df_transactions.head()\n",
    "df_transactions[\"Transact_DateTime\"] = df_transactions[\"Transact Date\"] + \" \" + df_transactions[\"Transact Time\"]\n",
    "# Merge transactions and df_customer"
   ]
  },
  {
   "cell_type": "code",
   "execution_count": 18,
   "metadata": {
    "collapsed": false
   },
   "outputs": [],
   "source": [
    "df_transactions[\"Transact_DateTime_\"] = pd.to_datetime(df_transactions[\"Transact_DateTime\"],\n",
    "                                                     dayfirst=True\n",
    "                                                     )"
   ]
  },
  {
   "cell_type": "code",
   "execution_count": 19,
   "metadata": {
    "collapsed": false
   },
   "outputs": [],
   "source": [
    "del df_transactions[\"Transact_DateTime\"]\n",
    "df_transactions = df_transactions.rename(columns={\"Transact_DateTime_\":\"Transact_DateTime\"})"
   ]
  },
  {
   "cell_type": "code",
   "execution_count": 20,
   "metadata": {
    "collapsed": false
   },
   "outputs": [],
   "source": [
    "df_merged = df_transactions.merge(df_customer, how=\"left\",left_on=\"Customer ID\", right_on='customerID')"
   ]
  },
  {
   "cell_type": "code",
   "execution_count": 21,
   "metadata": {
    "collapsed": false
   },
   "outputs": [
    {
     "data": {
      "text/plain": [
       "556580"
      ]
     },
     "execution_count": 21,
     "metadata": {},
     "output_type": "execute_result"
    }
   ],
   "source": [
    "len(df_merged.index)"
   ]
  },
  {
   "cell_type": "code",
   "execution_count": 22,
   "metadata": {
    "collapsed": false
   },
   "outputs": [],
   "source": [
    "del df_merged[\"Customer ID\"]\n",
    "del df_merged[\"Age\"]\n",
    "del df_merged[\"Gender\"]"
   ]
  },
  {
   "cell_type": "code",
   "execution_count": 23,
   "metadata": {
    "collapsed": false
   },
   "outputs": [],
   "source": [
    "df_merged.to_csv('../data/merged.csv')"
   ]
  },
  {
   "cell_type": "code",
   "execution_count": 24,
   "metadata": {
    "collapsed": false,
    "scrolled": true
   },
   "outputs": [
    {
     "name": "stdout",
     "output_type": "stream",
     "text": [
      "Index(['Transact ID', 'Transact Date', 'Transact Time', 'Outlet',\n",
      "       'Outlet District', 'Transact Details ID', 'Item', 'Item Description',\n",
      "       'Quantity', 'Price', 'Spending', 'Transact_DateTime', 'customerID',\n",
      "       'age', 'age_group'],\n",
      "      dtype='object')\n"
     ]
    }
   ],
   "source": [
    "print(df_merged.columns)"
   ]
  },
  {
   "cell_type": "code",
   "execution_count": 25,
   "metadata": {
    "collapsed": true
   },
   "outputs": [],
   "source": [
    "# Time of day function\n",
    "def tod(d):\n",
    "    today6am = datetime(12,1,1,6,0,0).time()\n",
    "    today12pm = datetime(12,1,1,12,0,0).time()\n",
    "    today6pm = datetime(12,1,1,18,0,0).time()\n",
    "    today12am = datetime(12,1,1,23,59,59).time()\n",
    "    \n",
    "    if d.time() > today6am and d.time() < today12pm: # greater than 6am and less than 12pm:\n",
    "        return \"BREAKFAST\"\n",
    "    elif d.time() >= today12pm and d.time() < today6pm: # greater than 12pm and less than 6pm\n",
    "        return \"LUNCH\"\n",
    "    elif d.time() >= today6pm and d.time() <= today12am:\n",
    "#     else:\n",
    "        return \"DINNER\"\n",
    "    else:\n",
    "        return \"SUPPER\"\n",
    "    \n",
    "df_merged[\"time_of_day\"] = df_merged[\"Transact_DateTime\"].apply(tod)"
   ]
  },
  {
   "cell_type": "code",
   "execution_count": 26,
   "metadata": {
    "collapsed": false,
    "scrolled": false
   },
   "outputs": [
    {
     "data": {
      "text/plain": [
       "time_of_day\n",
       "BREAKFAST     4021\n",
       "DINNER       72760\n",
       "LUNCH        55767\n",
       "SUPPER        3901\n",
       "Name: Transact ID, dtype: int64"
      ]
     },
     "execution_count": 26,
     "metadata": {},
     "output_type": "execute_result"
    }
   ],
   "source": [
    "# Number of unique transactions in each segment of the day.\n",
    "df_merged.groupby(\"time_of_day\")['Transact ID'].nunique()"
   ]
  },
  {
   "cell_type": "code",
   "execution_count": 27,
   "metadata": {
    "collapsed": false,
    "scrolled": true
   },
   "outputs": [
    {
     "name": "stdout",
     "output_type": "stream",
     "text": [
      "Index(['Transact ID', 'Transact Date', 'Transact Time', 'Outlet',\n",
      "       'Outlet District', 'Transact Details ID', 'Item', 'Item Description',\n",
      "       'Quantity', 'Price', 'Spending', 'Transact_DateTime', 'customerID',\n",
      "       'age', 'age_group', 'time_of_day'],\n",
      "      dtype='object')\n"
     ]
    }
   ],
   "source": [
    "print(df_merged.columns)"
   ]
  },
  {
   "cell_type": "code",
   "execution_count": 28,
   "metadata": {
    "collapsed": false
   },
   "outputs": [],
   "source": [
    "df_derivedItems = pd.read_csv(\"../data/derived_items.csv\")"
   ]
  },
  {
   "cell_type": "code",
   "execution_count": 29,
   "metadata": {
    "collapsed": false,
    "scrolled": false
   },
   "outputs": [
    {
     "data": {
      "text/html": [
       "<div>\n",
       "<table border=\"1\" class=\"dataframe\">\n",
       "  <thead>\n",
       "    <tr style=\"text-align: right;\">\n",
       "      <th></th>\n",
       "      <th>Item</th>\n",
       "      <th>Item Description</th>\n",
       "      <th>Item Type</th>\n",
       "      <th>Item Category</th>\n",
       "    </tr>\n",
       "  </thead>\n",
       "  <tbody>\n",
       "    <tr>\n",
       "      <th>0</th>\n",
       "      <td>1</td>\n",
       "      <td>Cold / Iced Water</td>\n",
       "      <td>Drink</td>\n",
       "      <td>Drink,Cold</td>\n",
       "    </tr>\n",
       "    <tr>\n",
       "      <th>1</th>\n",
       "      <td>2</td>\n",
       "      <td>Warm Water</td>\n",
       "      <td>Drink</td>\n",
       "      <td>Drink,Hot</td>\n",
       "    </tr>\n",
       "    <tr>\n",
       "      <th>2</th>\n",
       "      <td>11</td>\n",
       "      <td>Chs Bk Pork Chop Spag</td>\n",
       "      <td>Main</td>\n",
       "      <td>Spaghetti,Chicken</td>\n",
       "    </tr>\n",
       "    <tr>\n",
       "      <th>3</th>\n",
       "      <td>14</td>\n",
       "      <td>BP Chicken Chop Spag</td>\n",
       "      <td>Main</td>\n",
       "      <td>Spaghetti,Chicken</td>\n",
       "    </tr>\n",
       "    <tr>\n",
       "      <th>4</th>\n",
       "      <td>17</td>\n",
       "      <td>Fish Fillet Spag</td>\n",
       "      <td>Main</td>\n",
       "      <td>Spaghetti,Fish</td>\n",
       "    </tr>\n",
       "  </tbody>\n",
       "</table>\n",
       "</div>"
      ],
      "text/plain": [
       "  Item       Item Description Item Type      Item Category\n",
       "0    1      Cold / Iced Water     Drink         Drink,Cold\n",
       "1    2             Warm Water     Drink          Drink,Hot\n",
       "2   11  Chs Bk Pork Chop Spag      Main  Spaghetti,Chicken\n",
       "3   14   BP Chicken Chop Spag      Main  Spaghetti,Chicken\n",
       "4   17       Fish Fillet Spag      Main     Spaghetti,Fish"
      ]
     },
     "execution_count": 29,
     "metadata": {},
     "output_type": "execute_result"
    }
   ],
   "source": [
    "df_derivedItems.head()"
   ]
  },
  {
   "cell_type": "code",
   "execution_count": 30,
   "metadata": {
    "collapsed": false
   },
   "outputs": [],
   "source": [
    "df_merged['Item'] = df_merged['Item'].astype(str)\n",
    "df_merged['Item'] = df_merged['Item'].str.strip()\n",
    "df_derivedItems['Item'] = df_derivedItems['Item'].astype(str)\n",
    "# del df_merged['Item Description']"
   ]
  },
  {
   "cell_type": "code",
   "execution_count": 31,
   "metadata": {
    "collapsed": false,
    "scrolled": true
   },
   "outputs": [
    {
     "name": "stdout",
     "output_type": "stream",
     "text": [
      "556580\n",
      "162\n"
     ]
    }
   ],
   "source": [
    "print(len(df_merged.index))\n",
    "print(len(df_derivedItems.index))"
   ]
  },
  {
   "cell_type": "code",
   "execution_count": 32,
   "metadata": {
    "collapsed": false
   },
   "outputs": [
    {
     "data": {
      "text/plain": [
       "dtype('O')"
      ]
     },
     "execution_count": 32,
     "metadata": {},
     "output_type": "execute_result"
    }
   ],
   "source": [
    "df_merged[\"Item\"].dtype"
   ]
  },
  {
   "cell_type": "code",
   "execution_count": 33,
   "metadata": {
    "collapsed": false
   },
   "outputs": [
    {
     "data": {
      "text/plain": [
       "dtype('O')"
      ]
     },
     "execution_count": 33,
     "metadata": {},
     "output_type": "execute_result"
    }
   ],
   "source": [
    "df_derivedItems['Item'].dtype"
   ]
  },
  {
   "cell_type": "code",
   "execution_count": 34,
   "metadata": {
    "collapsed": false
   },
   "outputs": [],
   "source": [
    "df_merged_ = pd.merge(df_merged,df_derivedItems, 'left', 'Item')"
   ]
  },
  {
   "cell_type": "code",
   "execution_count": 35,
   "metadata": {
    "collapsed": false
   },
   "outputs": [
    {
     "data": {
      "text/plain": [
       "556580"
      ]
     },
     "execution_count": 35,
     "metadata": {},
     "output_type": "execute_result"
    }
   ],
   "source": [
    "len(df_merged_.index)"
   ]
  },
  {
   "cell_type": "code",
   "execution_count": 36,
   "metadata": {
    "collapsed": false
   },
   "outputs": [
    {
     "data": {
      "text/plain": [
       "<pandas.core.groupby.DataFrameGroupBy object at 0x11859c630>"
      ]
     },
     "execution_count": 36,
     "metadata": {},
     "output_type": "execute_result"
    }
   ],
   "source": [
    "# Creating profiles\n",
    "df_merged.groupby(['age_group','time_of_day'])"
   ]
  },
  {
   "cell_type": "code",
   "execution_count": 37,
   "metadata": {
    "collapsed": false,
    "scrolled": true
   },
   "outputs": [
    {
     "data": {
      "text/plain": [
       "Transact ID            False\n",
       "Transact Date          False\n",
       "Transact Time          False\n",
       "Outlet                 False\n",
       "Outlet District        False\n",
       "Transact Details ID    False\n",
       "Item                   False\n",
       "Item Description_x     False\n",
       "Quantity               False\n",
       "Price                  False\n",
       "Spending               False\n",
       "Transact_DateTime      False\n",
       "customerID             False\n",
       "age                    False\n",
       "age_group              False\n",
       "time_of_day            False\n",
       "Item Description_y     False\n",
       "Item Type              False\n",
       "Item Category          False\n",
       "dtype: bool"
      ]
     },
     "execution_count": 37,
     "metadata": {},
     "output_type": "execute_result"
    }
   ],
   "source": [
    "df_merged_.isnull().any()"
   ]
  },
  {
   "cell_type": "code",
   "execution_count": 38,
   "metadata": {
    "collapsed": false,
    "scrolled": false
   },
   "outputs": [],
   "source": [
    "df_grouped = df_merged_.groupby(['Transact ID','Item Type']).size()"
   ]
  },
  {
   "cell_type": "code",
   "execution_count": 39,
   "metadata": {
    "collapsed": true
   },
   "outputs": [],
   "source": [
    "df_merged_.to_csv('../data/merged.csv')"
   ]
  },
  {
   "cell_type": "code",
   "execution_count": 46,
   "metadata": {
    "collapsed": false
   },
   "outputs": [],
   "source": [
    "mainWeight = 0.3\n",
    "drinksWeight = 0.3\n",
    "sidesWeight = 0.2\n",
    "dessertWeight = 0.2\n",
    "\n",
    "def noPax(d):\n",
    "    noPax = mainWeight * d['Main'] + drinksWeight * d['Drinks'] \n",
    "    + sidesWeight * d['Sides'] + dessertWeight * d['Dessert']\n",
    "    return noPax"
   ]
  },
  {
   "cell_type": "code",
   "execution_count": 53,
   "metadata": {
    "collapsed": false
   },
   "outputs": [],
   "source": [
    "output = {}\n",
    "for transaction, subframe in df_grouped.groupby(level=0):\n",
    "    temp_dict = subframe.to_dict()\n",
    "    new_dict = {}\n",
    "    for k1,k2 in temp_dict:\n",
    "        val = temp_dict[(k1,k2)]\n",
    "        new_dict[k2] = val\n",
    "    \n",
    "    if 'Main' not in new_dict: \n",
    "        new_dict['Main'] = 0\n",
    "    \n",
    "    if 'Drinks' not in new_dict: \n",
    "        new_dict['Drinks'] = 0\n",
    "        \n",
    "    if 'Sides' not in new_dict: \n",
    "        new_dict['Sides'] = 0\n",
    "        \n",
    "    if 'Dessert' not in new_dict: \n",
    "        new_dict['Dessert'] = 0\n",
    "    \n",
    "    numPax = noPax(new_dict)\n",
    "    numPax = np.ceil(numPax)\n",
    "    if numPax < 1: numPax = 1\n",
    "    output[transaction] = numPax\n",
    "    \n",
    "        \n"
   ]
  },
  {
   "cell_type": "code",
   "execution_count": 56,
   "metadata": {
    "collapsed": false
   },
   "outputs": [],
   "source": [
    "numpax_df = pd.DataFrame(list(output.items()))"
   ]
  },
  {
   "cell_type": "code",
   "execution_count": 63,
   "metadata": {
    "collapsed": false
   },
   "outputs": [
    {
     "data": {
      "text/plain": [
       "Index(['transactionId', 'NumPax'], dtype='object')"
      ]
     },
     "execution_count": 63,
     "metadata": {},
     "output_type": "execute_result"
    }
   ],
   "source": [
    "numpax_df.columns"
   ]
  },
  {
   "cell_type": "code",
   "execution_count": 64,
   "metadata": {
    "collapsed": false
   },
   "outputs": [],
   "source": [
    "numpax_df['transactionId'] = numpax_df['transactionId'].astype(int)\n",
    "numpax_df['NumPax'] = numpax_df['NumPax'].astype(int)"
   ]
  },
  {
   "cell_type": "code",
   "execution_count": 65,
   "metadata": {
    "collapsed": false
   },
   "outputs": [
    {
     "data": {
      "text/plain": [
       "Index(['Transact ID', 'Transact Date', 'Transact Time', 'Outlet',\n",
       "       'Outlet District', 'Transact Details ID', 'Item', 'Item Description_x',\n",
       "       'Quantity', 'Price', 'Spending', 'Transact_DateTime', 'customerID',\n",
       "       'age', 'age_group', 'time_of_day', 'Item Description_y', 'Item Type',\n",
       "       'Item Category'],\n",
       "      dtype='object')"
      ]
     },
     "execution_count": 65,
     "metadata": {},
     "output_type": "execute_result"
    }
   ],
   "source": [
    "df_merged_.columns"
   ]
  },
  {
   "cell_type": "code",
   "execution_count": 66,
   "metadata": {
    "collapsed": true
   },
   "outputs": [],
   "source": [
    "df_merged_final = pd.merge(df_merged_, numpax_df, how='left', left_on='Transact ID', right_on='transactionId'\n",
    "                          )"
   ]
  },
  {
   "cell_type": "code",
   "execution_count": 74,
   "metadata": {
    "collapsed": false
   },
   "outputs": [
    {
     "data": {
      "text/html": [
       "<div>\n",
       "<table border=\"1\" class=\"dataframe\">\n",
       "  <thead>\n",
       "    <tr style=\"text-align: right;\">\n",
       "      <th></th>\n",
       "      <th>Transact ID</th>\n",
       "      <th>Transact Date</th>\n",
       "      <th>Transact Time</th>\n",
       "      <th>Outlet</th>\n",
       "      <th>Outlet District</th>\n",
       "      <th>Transact Details ID</th>\n",
       "      <th>Item</th>\n",
       "      <th>Item Description_x</th>\n",
       "      <th>Quantity</th>\n",
       "      <th>Price</th>\n",
       "      <th>...</th>\n",
       "      <th>Transact_DateTime</th>\n",
       "      <th>customerID</th>\n",
       "      <th>age</th>\n",
       "      <th>age_group</th>\n",
       "      <th>time_of_day</th>\n",
       "      <th>Item Description_y</th>\n",
       "      <th>Item Type</th>\n",
       "      <th>Item Category</th>\n",
       "      <th>transactionId</th>\n",
       "      <th>NumPax</th>\n",
       "    </tr>\n",
       "  </thead>\n",
       "  <tbody>\n",
       "    <tr>\n",
       "      <th>0</th>\n",
       "      <td>183003</td>\n",
       "      <td>1/1/16</td>\n",
       "      <td>12:01:48 AM</td>\n",
       "      <td>Outlet 17</td>\n",
       "      <td>5</td>\n",
       "      <td>537557</td>\n",
       "      <td>215A</td>\n",
       "      <td>Pork Chop Noodle</td>\n",
       "      <td>1</td>\n",
       "      <td>13.94</td>\n",
       "      <td>...</td>\n",
       "      <td>2016-01-01 00:01:48</td>\n",
       "      <td>57618</td>\n",
       "      <td>58</td>\n",
       "      <td>SENIOR</td>\n",
       "      <td>SUPPER</td>\n",
       "      <td>Pork Chop Noodle</td>\n",
       "      <td>Main</td>\n",
       "      <td>Noodle,Pork</td>\n",
       "      <td>183003</td>\n",
       "      <td>1</td>\n",
       "    </tr>\n",
       "    <tr>\n",
       "      <th>1</th>\n",
       "      <td>183003</td>\n",
       "      <td>1/1/16</td>\n",
       "      <td>12:01:48 AM</td>\n",
       "      <td>Outlet 17</td>\n",
       "      <td>5</td>\n",
       "      <td>537555</td>\n",
       "      <td>34</td>\n",
       "      <td>Fish &amp; Chips</td>\n",
       "      <td>1</td>\n",
       "      <td>13.94</td>\n",
       "      <td>...</td>\n",
       "      <td>2016-01-01 00:01:48</td>\n",
       "      <td>57618</td>\n",
       "      <td>58</td>\n",
       "      <td>SENIOR</td>\n",
       "      <td>SUPPER</td>\n",
       "      <td>Fish &amp; Chips</td>\n",
       "      <td>Main</td>\n",
       "      <td>Western,Fish</td>\n",
       "      <td>183003</td>\n",
       "      <td>1</td>\n",
       "    </tr>\n",
       "    <tr>\n",
       "      <th>2</th>\n",
       "      <td>183005</td>\n",
       "      <td>1/1/16</td>\n",
       "      <td>12:03:32 AM</td>\n",
       "      <td>Outlet 11</td>\n",
       "      <td>27</td>\n",
       "      <td>537565</td>\n",
       "      <td>552</td>\n",
       "      <td>Mango Pomelo</td>\n",
       "      <td>1</td>\n",
       "      <td>8.36</td>\n",
       "      <td>...</td>\n",
       "      <td>2016-01-01 00:03:32</td>\n",
       "      <td>54234</td>\n",
       "      <td>40</td>\n",
       "      <td>MIDDLE-AGED</td>\n",
       "      <td>SUPPER</td>\n",
       "      <td>Mango Pomelo</td>\n",
       "      <td>Dessert</td>\n",
       "      <td>Dessert,Cold</td>\n",
       "      <td>183005</td>\n",
       "      <td>1</td>\n",
       "    </tr>\n",
       "    <tr>\n",
       "      <th>3</th>\n",
       "      <td>183005</td>\n",
       "      <td>1/1/16</td>\n",
       "      <td>12:03:32 AM</td>\n",
       "      <td>Outlet 11</td>\n",
       "      <td>27</td>\n",
       "      <td>537564</td>\n",
       "      <td>215B</td>\n",
       "      <td>Pork Chop Bee Hoon</td>\n",
       "      <td>1</td>\n",
       "      <td>13.94</td>\n",
       "      <td>...</td>\n",
       "      <td>2016-01-01 00:03:32</td>\n",
       "      <td>54234</td>\n",
       "      <td>40</td>\n",
       "      <td>MIDDLE-AGED</td>\n",
       "      <td>SUPPER</td>\n",
       "      <td>Pork Chop Bee Hoon</td>\n",
       "      <td>Main</td>\n",
       "      <td>Noodle,Pork</td>\n",
       "      <td>183005</td>\n",
       "      <td>1</td>\n",
       "    </tr>\n",
       "    <tr>\n",
       "      <th>4</th>\n",
       "      <td>183010</td>\n",
       "      <td>1/1/16</td>\n",
       "      <td>12:14:51 AM</td>\n",
       "      <td>Outlet 14</td>\n",
       "      <td>16</td>\n",
       "      <td>537571</td>\n",
       "      <td>127</td>\n",
       "      <td>Borsch Soup</td>\n",
       "      <td>2</td>\n",
       "      <td>5.94</td>\n",
       "      <td>...</td>\n",
       "      <td>2016-01-01 00:14:51</td>\n",
       "      <td>73173</td>\n",
       "      <td>30</td>\n",
       "      <td>ADULT</td>\n",
       "      <td>SUPPER</td>\n",
       "      <td>Borsch Soup</td>\n",
       "      <td>Side</td>\n",
       "      <td>Soup,Beef</td>\n",
       "      <td>183010</td>\n",
       "      <td>1</td>\n",
       "    </tr>\n",
       "  </tbody>\n",
       "</table>\n",
       "<p>5 rows × 21 columns</p>\n",
       "</div>"
      ],
      "text/plain": [
       "   Transact ID Transact Date Transact Time     Outlet  Outlet District  \\\n",
       "0       183003        1/1/16   12:01:48 AM  Outlet 17                5   \n",
       "1       183003        1/1/16   12:01:48 AM  Outlet 17                5   \n",
       "2       183005        1/1/16   12:03:32 AM  Outlet 11               27   \n",
       "3       183005        1/1/16   12:03:32 AM  Outlet 11               27   \n",
       "4       183010        1/1/16   12:14:51 AM  Outlet 14               16   \n",
       "\n",
       "   Transact Details ID  Item  Item Description_x  Quantity  Price   ...    \\\n",
       "0               537557  215A    Pork Chop Noodle         1  13.94   ...     \n",
       "1               537555    34        Fish & Chips         1  13.94   ...     \n",
       "2               537565   552        Mango Pomelo         1   8.36   ...     \n",
       "3               537564  215B  Pork Chop Bee Hoon         1  13.94   ...     \n",
       "4               537571   127         Borsch Soup         2   5.94   ...     \n",
       "\n",
       "    Transact_DateTime customerID  age    age_group time_of_day  \\\n",
       "0 2016-01-01 00:01:48      57618   58       SENIOR      SUPPER   \n",
       "1 2016-01-01 00:01:48      57618   58       SENIOR      SUPPER   \n",
       "2 2016-01-01 00:03:32      54234   40  MIDDLE-AGED      SUPPER   \n",
       "3 2016-01-01 00:03:32      54234   40  MIDDLE-AGED      SUPPER   \n",
       "4 2016-01-01 00:14:51      73173   30        ADULT      SUPPER   \n",
       "\n",
       "   Item Description_y Item Type Item Category transactionId  NumPax  \n",
       "0    Pork Chop Noodle      Main   Noodle,Pork        183003       1  \n",
       "1        Fish & Chips      Main  Western,Fish        183003       1  \n",
       "2        Mango Pomelo   Dessert  Dessert,Cold        183005       1  \n",
       "3  Pork Chop Bee Hoon      Main   Noodle,Pork        183005       1  \n",
       "4         Borsch Soup      Side     Soup,Beef        183010       1  \n",
       "\n",
       "[5 rows x 21 columns]"
      ]
     },
     "execution_count": 74,
     "metadata": {},
     "output_type": "execute_result"
    }
   ],
   "source": [
    "df_merged_final.head()"
   ]
  }
 ],
 "metadata": {
  "kernelspec": {
   "display_name": "Python 3",
   "language": "python",
   "name": "python3"
  },
  "language_info": {
   "codemirror_mode": {
    "name": "ipython",
    "version": 3
   },
   "file_extension": ".py",
   "mimetype": "text/x-python",
   "name": "python",
   "nbconvert_exporter": "python",
   "pygments_lexer": "ipython3",
   "version": "3.5.3"
  }
 },
 "nbformat": 4,
 "nbformat_minor": 2
}
