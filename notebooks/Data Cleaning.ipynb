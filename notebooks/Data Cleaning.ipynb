{
 "cells": [
  {
   "cell_type": "code",
   "execution_count": 13,
   "metadata": {
    "collapsed": false
   },
   "outputs": [],
   "source": [
    "# imports\n",
    "import pandas as pd\n",
    "import numpy as np\n",
    "from datetime import datetime"
   ]
  },
  {
   "cell_type": "code",
   "execution_count": 14,
   "metadata": {
    "collapsed": false,
    "scrolled": true
   },
   "outputs": [
    {
     "data": {
      "text/html": [
       "<div>\n",
       "<table border=\"1\" class=\"dataframe\">\n",
       "  <thead>\n",
       "    <tr style=\"text-align: right;\">\n",
       "      <th></th>\n",
       "      <th>Customer ID</th>\n",
       "      <th>Age</th>\n",
       "      <th>Gender</th>\n",
       "      <th>Transact ID</th>\n",
       "      <th>Transact Date</th>\n",
       "      <th>Transact Time</th>\n",
       "      <th>Outlet</th>\n",
       "      <th>Outlet District</th>\n",
       "      <th>Transact Details ID</th>\n",
       "      <th>Item</th>\n",
       "      <th>Item Description</th>\n",
       "      <th>Quantity</th>\n",
       "      <th>Price</th>\n",
       "      <th>Spending</th>\n",
       "    </tr>\n",
       "  </thead>\n",
       "  <tbody>\n",
       "    <tr>\n",
       "      <th>0</th>\n",
       "      <td>57618</td>\n",
       "      <td>58.0</td>\n",
       "      <td>F</td>\n",
       "      <td>183003</td>\n",
       "      <td>2016-01-01</td>\n",
       "      <td>12:01:48 AM</td>\n",
       "      <td>Outlet 17</td>\n",
       "      <td>5</td>\n",
       "      <td>537557</td>\n",
       "      <td>215A</td>\n",
       "      <td>Pork Chop Noodle</td>\n",
       "      <td>1</td>\n",
       "      <td>13.94</td>\n",
       "      <td>13.94</td>\n",
       "    </tr>\n",
       "    <tr>\n",
       "      <th>1</th>\n",
       "      <td>57618</td>\n",
       "      <td>58.0</td>\n",
       "      <td>F</td>\n",
       "      <td>183003</td>\n",
       "      <td>2016-01-01</td>\n",
       "      <td>12:01:48 AM</td>\n",
       "      <td>Outlet 17</td>\n",
       "      <td>5</td>\n",
       "      <td>537555</td>\n",
       "      <td>34</td>\n",
       "      <td>Fish &amp; Chips</td>\n",
       "      <td>1</td>\n",
       "      <td>13.94</td>\n",
       "      <td>13.94</td>\n",
       "    </tr>\n",
       "    <tr>\n",
       "      <th>2</th>\n",
       "      <td>54234</td>\n",
       "      <td>40.0</td>\n",
       "      <td>NaN</td>\n",
       "      <td>183005</td>\n",
       "      <td>2016-01-01</td>\n",
       "      <td>12:03:32 AM</td>\n",
       "      <td>Outlet 11</td>\n",
       "      <td>27</td>\n",
       "      <td>537565</td>\n",
       "      <td>552</td>\n",
       "      <td>Mango Pomelo</td>\n",
       "      <td>1</td>\n",
       "      <td>8.36</td>\n",
       "      <td>8.36</td>\n",
       "    </tr>\n",
       "    <tr>\n",
       "      <th>3</th>\n",
       "      <td>54234</td>\n",
       "      <td>40.0</td>\n",
       "      <td>NaN</td>\n",
       "      <td>183005</td>\n",
       "      <td>2016-01-01</td>\n",
       "      <td>12:03:32 AM</td>\n",
       "      <td>Outlet 11</td>\n",
       "      <td>27</td>\n",
       "      <td>537564</td>\n",
       "      <td>215B</td>\n",
       "      <td>Pork Chop Bee Hoon</td>\n",
       "      <td>1</td>\n",
       "      <td>13.94</td>\n",
       "      <td>13.94</td>\n",
       "    </tr>\n",
       "    <tr>\n",
       "      <th>4</th>\n",
       "      <td>73173</td>\n",
       "      <td>30.0</td>\n",
       "      <td>NaN</td>\n",
       "      <td>183010</td>\n",
       "      <td>2016-01-01</td>\n",
       "      <td>12:14:51 AM</td>\n",
       "      <td>Outlet 14</td>\n",
       "      <td>16</td>\n",
       "      <td>537571</td>\n",
       "      <td>127</td>\n",
       "      <td>Borsch Soup</td>\n",
       "      <td>2</td>\n",
       "      <td>5.94</td>\n",
       "      <td>11.88</td>\n",
       "    </tr>\n",
       "  </tbody>\n",
       "</table>\n",
       "</div>"
      ],
      "text/plain": [
       "   Customer ID   Age Gender  Transact ID Transact Date Transact Time  \\\n",
       "0        57618  58.0      F       183003    2016-01-01   12:01:48 AM   \n",
       "1        57618  58.0      F       183003    2016-01-01   12:01:48 AM   \n",
       "2        54234  40.0    NaN       183005    2016-01-01   12:03:32 AM   \n",
       "3        54234  40.0    NaN       183005    2016-01-01   12:03:32 AM   \n",
       "4        73173  30.0    NaN       183010    2016-01-01   12:14:51 AM   \n",
       "\n",
       "      Outlet  Outlet District  Transact Details ID           Item  \\\n",
       "0  Outlet 17                5               537557  215A            \n",
       "1  Outlet 17                5               537555             34   \n",
       "2  Outlet 11               27               537565            552   \n",
       "3  Outlet 11               27               537564  215B            \n",
       "4  Outlet 14               16               537571            127   \n",
       "\n",
       "     Item Description  Quantity  Price  Spending  \n",
       "0    Pork Chop Noodle         1  13.94     13.94  \n",
       "1        Fish & Chips         1  13.94     13.94  \n",
       "2        Mango Pomelo         1   8.36      8.36  \n",
       "3  Pork Chop Bee Hoon         1  13.94     13.94  \n",
       "4         Borsch Soup         2   5.94     11.88  "
      ]
     },
     "execution_count": 14,
     "metadata": {},
     "output_type": "execute_result"
    }
   ],
   "source": [
    "# Pull in the raw data file\n",
    "file = \"../data/data.csv\"\n",
    "df_transactions = pd.read_csv(file)\n",
    "df_transactions.head()"
   ]
  },
  {
   "cell_type": "code",
   "execution_count": 15,
   "metadata": {
    "collapsed": false
   },
   "outputs": [],
   "source": [
    "mean = 38\n",
    "sd = 11"
   ]
  },
  {
   "cell_type": "code",
   "execution_count": 16,
   "metadata": {
    "collapsed": false,
    "scrolled": true
   },
   "outputs": [
    {
     "name": "stdout",
     "output_type": "stream",
     "text": [
      "Customer table size  556580\n",
      "Customer table size after removing duplicates  44414\n"
     ]
    }
   ],
   "source": [
    "# Creating a the customer table..\n",
    "df_customer = pd.DataFrame()\n",
    "df_customer[\"customerID\"] = df_transactions[\"Customer ID\"]\n",
    "df_customer[\"age\"] = df_transactions[\"Age\"]\n",
    "df_customer[\"gender\"] = df_transactions[\"Gender\"]\n",
    "\n",
    "print(\"Customer table size \", len(df_customer.index))\n",
    "df_customer = df_customer.drop_duplicates(keep='first')\n",
    "print(\"Customer table size after removing duplicates \", len(df_customer.index))"
   ]
  },
  {
   "cell_type": "code",
   "execution_count": 17,
   "metadata": {
    "collapsed": true
   },
   "outputs": [],
   "source": [
    "# Cleaning customer table..\n",
    "# Chaning age to int\n",
    "df_customer['age'] = pd.to_numeric(df_customer['age'])\n",
    "# Filling NaNs with 0 by default\n",
    "df_customer['age'] = df_customer['age'].fillna(value=0)\n",
    "# Filling gender with \"NA\"\n",
    "df_customer['gender'] = df_customer['gender'].fillna(value=\"NA\")"
   ]
  },
  {
   "cell_type": "code",
   "execution_count": 18,
   "metadata": {
    "collapsed": false
   },
   "outputs": [
    {
     "name": "stdout",
     "output_type": "stream",
     "text": [
      "Mean:  37.3733306078  SD:  11.9079709467\n"
     ]
    }
   ],
   "source": [
    "# Getting mean and sd of age of individuals aged >= 6 and <= 88\n",
    "mean = df_customer[\"age\"].ix[(df_customer[\"age\"] >= 6) & (df_customer[\"age\"] <= 88)].mean()\n",
    "sd = df_customer[\"age\"].ix[(df_customer[\"age\"] >= 6) & (df_customer[\"age\"] <= 88)].std()\n",
    "print(\"Mean: \", mean, \" SD: \", sd)"
   ]
  },
  {
   "cell_type": "code",
   "execution_count": 19,
   "metadata": {
    "collapsed": false
   },
   "outputs": [],
   "source": [
    "def assignAge(d):\n",
    "    while(d < 6 or d > 88):\n",
    "        d = np.random.normal(mean, sd, 1)[0]\n",
    "    return int(d)\n",
    "        \n",
    "df_customer[\"age\"] = df_customer[\"age\"].apply(assignAge)"
   ]
  },
  {
   "cell_type": "code",
   "execution_count": 20,
   "metadata": {
    "collapsed": false
   },
   "outputs": [],
   "source": [
    "# Assigning age category.\n",
    "def age_group(d):\n",
    "    if d <= 18:\n",
    "        return \"YOUTH\"\n",
    "    elif d <= 35 and d > 18:\n",
    "        return \"ADULT\"\n",
    "    elif d <= 50 and d > 35:\n",
    "        return \"MIDDLE-AGED\"\n",
    "    else:\n",
    "        return \"SENIOR\"\n",
    "\n",
    "df_customer['age_group'] = df_customer['age'].apply(age_group)"
   ]
  },
  {
   "cell_type": "code",
   "execution_count": 21,
   "metadata": {
    "collapsed": false
   },
   "outputs": [],
   "source": [
    "del df_customer['gender']"
   ]
  },
  {
   "cell_type": "code",
   "execution_count": 22,
   "metadata": {
    "collapsed": false
   },
   "outputs": [],
   "source": [
    "df_customer.to_csv(\"../data/customer.csv\")"
   ]
  },
  {
   "cell_type": "code",
   "execution_count": 23,
   "metadata": {
    "collapsed": false,
    "scrolled": true
   },
   "outputs": [
    {
     "data": {
      "text/html": [
       "<div>\n",
       "<table border=\"1\" class=\"dataframe\">\n",
       "  <thead>\n",
       "    <tr style=\"text-align: right;\">\n",
       "      <th></th>\n",
       "      <th>customer_id</th>\n",
       "      <th>age</th>\n",
       "      <th>age_group</th>\n",
       "    </tr>\n",
       "  </thead>\n",
       "  <tbody>\n",
       "    <tr>\n",
       "      <th>0</th>\n",
       "      <td>57618</td>\n",
       "      <td>58</td>\n",
       "      <td>SENIOR</td>\n",
       "    </tr>\n",
       "    <tr>\n",
       "      <th>2</th>\n",
       "      <td>54234</td>\n",
       "      <td>40</td>\n",
       "      <td>MIDDLE-AGED</td>\n",
       "    </tr>\n",
       "    <tr>\n",
       "      <th>4</th>\n",
       "      <td>73173</td>\n",
       "      <td>30</td>\n",
       "      <td>ADULT</td>\n",
       "    </tr>\n",
       "    <tr>\n",
       "      <th>9</th>\n",
       "      <td>73083</td>\n",
       "      <td>57</td>\n",
       "      <td>SENIOR</td>\n",
       "    </tr>\n",
       "    <tr>\n",
       "      <th>17</th>\n",
       "      <td>56459</td>\n",
       "      <td>39</td>\n",
       "      <td>MIDDLE-AGED</td>\n",
       "    </tr>\n",
       "  </tbody>\n",
       "</table>\n",
       "</div>"
      ],
      "text/plain": [
       "    customer_id  age    age_group\n",
       "0         57618   58       SENIOR\n",
       "2         54234   40  MIDDLE-AGED\n",
       "4         73173   30        ADULT\n",
       "9         73083   57       SENIOR\n",
       "17        56459   39  MIDDLE-AGED"
      ]
     },
     "execution_count": 23,
     "metadata": {},
     "output_type": "execute_result"
    }
   ],
   "source": [
    "df_customer = df_customer.rename(columns={'customerID':'customer_id'})\n",
    "df_customer.head()"
   ]
  },
  {
   "cell_type": "code",
   "execution_count": 24,
   "metadata": {
    "collapsed": false
   },
   "outputs": [],
   "source": [
    "# Rename values in transactions\n",
    "# df_transactions.head()\n",
    "df_transactions[\"Transact_DateTime\"] = df_transactions[\"Transact Date\"] + \" \" + df_transactions[\"Transact Time\"]\n",
    "# Merge transactions and df_customer"
   ]
  },
  {
   "cell_type": "code",
   "execution_count": 25,
   "metadata": {
    "collapsed": false
   },
   "outputs": [],
   "source": [
    "df_transactions[\"Transact_DateTime_\"] = pd.to_datetime(df_transactions[\"Transact_DateTime\"],\n",
    "                                                     dayfirst=True\n",
    "                                                     )"
   ]
  },
  {
   "cell_type": "code",
   "execution_count": 26,
   "metadata": {
    "collapsed": false
   },
   "outputs": [],
   "source": [
    "del df_transactions[\"Transact_DateTime\"]\n",
    "df_transactions = df_transactions.rename(columns={\"Transact_DateTime_\":\"Transact_DateTime\"})"
   ]
  },
  {
   "cell_type": "code",
   "execution_count": 27,
   "metadata": {
    "collapsed": false
   },
   "outputs": [],
   "source": [
    "df_merged = df_transactions.merge(df_customer, how=\"left\",left_on=\"Customer ID\", right_on='customer_id')"
   ]
  },
  {
   "cell_type": "code",
   "execution_count": 28,
   "metadata": {
    "collapsed": false
   },
   "outputs": [
    {
     "data": {
      "text/plain": [
       "556580"
      ]
     },
     "execution_count": 28,
     "metadata": {},
     "output_type": "execute_result"
    }
   ],
   "source": [
    "len(df_merged.index)"
   ]
  },
  {
   "cell_type": "code",
   "execution_count": 29,
   "metadata": {
    "collapsed": false
   },
   "outputs": [],
   "source": [
    "del df_merged[\"Customer ID\"]\n",
    "del df_merged[\"Age\"]\n",
    "del df_merged[\"Gender\"]"
   ]
  },
  {
   "cell_type": "code",
   "execution_count": 30,
   "metadata": {
    "collapsed": false
   },
   "outputs": [],
   "source": [
    "df_merged.to_csv('../data/merged.csv')"
   ]
  },
  {
   "cell_type": "code",
   "execution_count": 31,
   "metadata": {
    "collapsed": false,
    "scrolled": true
   },
   "outputs": [
    {
     "name": "stdout",
     "output_type": "stream",
     "text": [
      "Index(['Transact ID', 'Transact Date', 'Transact Time', 'Outlet',\n",
      "       'Outlet District', 'Transact Details ID', 'Item', 'Item Description',\n",
      "       'Quantity', 'Price', 'Spending', 'Transact_DateTime', 'customer_id',\n",
      "       'age', 'age_group'],\n",
      "      dtype='object')\n"
     ]
    }
   ],
   "source": [
    "print(df_merged.columns)"
   ]
  },
  {
   "cell_type": "code",
   "execution_count": 32,
   "metadata": {
    "collapsed": true
   },
   "outputs": [],
   "source": [
    "# Time of day function\n",
    "def tod(d):\n",
    "    today6am = datetime(12,1,1,6,0,0).time()\n",
    "    today12pm = datetime(12,1,1,12,0,0).time()\n",
    "    today6pm = datetime(12,1,1,18,0,0).time()\n",
    "    today12am = datetime(12,1,1,23,59,59).time()\n",
    "    \n",
    "    if d.time() > today6am and d.time() < today12pm: # greater than 6am and less than 12pm:\n",
    "        return \"BREAKFAST\"\n",
    "    elif d.time() >= today12pm and d.time() < today6pm: # greater than 12pm and less than 6pm\n",
    "        return \"LUNCH\"\n",
    "    elif d.time() >= today6pm and d.time() <= today12am:\n",
    "#     else:\n",
    "        return \"DINNER\"\n",
    "    else:\n",
    "        return \"SUPPER\"\n",
    "    \n",
    "df_merged[\"time_of_day\"] = df_merged[\"Transact_DateTime\"].apply(tod)"
   ]
  },
  {
   "cell_type": "code",
   "execution_count": 33,
   "metadata": {
    "collapsed": false,
    "scrolled": false
   },
   "outputs": [
    {
     "data": {
      "text/plain": [
       "time_of_day\n",
       "BREAKFAST     4021\n",
       "DINNER       72760\n",
       "LUNCH        55767\n",
       "SUPPER        3901\n",
       "Name: Transact ID, dtype: int64"
      ]
     },
     "execution_count": 33,
     "metadata": {},
     "output_type": "execute_result"
    }
   ],
   "source": [
    "# Number of unique transactions in each segment of the day.\n",
    "df_merged.groupby(\"time_of_day\")['Transact ID'].nunique()"
   ]
  },
  {
   "cell_type": "code",
   "execution_count": 34,
   "metadata": {
    "collapsed": false,
    "scrolled": false
   },
   "outputs": [
    {
     "name": "stdout",
     "output_type": "stream",
     "text": [
      "Index(['Transact ID', 'Transact Date', 'Transact Time', 'Outlet',\n",
      "       'Outlet District', 'Transact Details ID', 'Item', 'Item Description',\n",
      "       'Quantity', 'Price', 'Spending', 'Transact_DateTime', 'customer_id',\n",
      "       'age', 'age_group', 'time_of_day'],\n",
      "      dtype='object')\n"
     ]
    }
   ],
   "source": [
    "print(df_merged.columns)"
   ]
  },
  {
   "cell_type": "code",
   "execution_count": 35,
   "metadata": {
    "collapsed": false
   },
   "outputs": [],
   "source": [
    "df_derivedItems = pd.read_csv(\"../data/derived_items.csv\")"
   ]
  },
  {
   "cell_type": "code",
   "execution_count": 36,
   "metadata": {
    "collapsed": false,
    "scrolled": false
   },
   "outputs": [
    {
     "data": {
      "text/plain": [
       "Item Type\n",
       "Beverage    39\n",
       "Dessert     12\n",
       "Drink        2\n",
       "Main        61\n",
       "Side        46\n",
       "Soup         1\n",
       "TAKEAWAY     1\n",
       "dtype: int64"
      ]
     },
     "execution_count": 36,
     "metadata": {},
     "output_type": "execute_result"
    }
   ],
   "source": [
    "df_derivedItems.groupby(['Item Type']).size()"
   ]
  },
  {
   "cell_type": "code",
   "execution_count": 37,
   "metadata": {
    "collapsed": false
   },
   "outputs": [],
   "source": [
    "df_merged['Item'] = df_merged['Item'].astype(str)\n",
    "df_merged['Item'] = df_merged['Item'].str.strip()\n",
    "df_derivedItems['Item'] = df_derivedItems['Item'].astype(str)\n",
    "# del df_merged['Item Description']"
   ]
  },
  {
   "cell_type": "code",
   "execution_count": 38,
   "metadata": {
    "collapsed": false,
    "scrolled": true
   },
   "outputs": [
    {
     "name": "stdout",
     "output_type": "stream",
     "text": [
      "556580\n",
      "162\n"
     ]
    }
   ],
   "source": [
    "print(len(df_merged.index))\n",
    "print(len(df_derivedItems.index))"
   ]
  },
  {
   "cell_type": "code",
   "execution_count": 39,
   "metadata": {
    "collapsed": false
   },
   "outputs": [
    {
     "data": {
      "text/plain": [
       "dtype('O')"
      ]
     },
     "execution_count": 39,
     "metadata": {},
     "output_type": "execute_result"
    }
   ],
   "source": [
    "df_merged[\"Item\"].dtype"
   ]
  },
  {
   "cell_type": "code",
   "execution_count": 40,
   "metadata": {
    "collapsed": false
   },
   "outputs": [
    {
     "data": {
      "text/plain": [
       "dtype('O')"
      ]
     },
     "execution_count": 40,
     "metadata": {},
     "output_type": "execute_result"
    }
   ],
   "source": [
    "df_derivedItems['Item'].dtype"
   ]
  },
  {
   "cell_type": "code",
   "execution_count": 41,
   "metadata": {
    "collapsed": false
   },
   "outputs": [],
   "source": [
    "df_merged_ = pd.merge(df_merged,df_derivedItems, 'left', 'Item')"
   ]
  },
  {
   "cell_type": "code",
   "execution_count": 42,
   "metadata": {
    "collapsed": false
   },
   "outputs": [],
   "source": [
    "df_merged_ = df_merged_[df_merged_['Item Type'] != \"TAKEAWAY\"]"
   ]
  },
  {
   "cell_type": "code",
   "execution_count": 43,
   "metadata": {
    "collapsed": false
   },
   "outputs": [
    {
     "data": {
      "text/plain": [
       "Item Type\n",
       "Beverage    171006\n",
       "Dessert      27523\n",
       "Drink        16422\n",
       "Main        191887\n",
       "Side        133959\n",
       "Soup          8009\n",
       "dtype: int64"
      ]
     },
     "execution_count": 43,
     "metadata": {},
     "output_type": "execute_result"
    }
   ],
   "source": [
    "df_merged_.groupby(['Item Type']).size()"
   ]
  },
  {
   "cell_type": "code",
   "execution_count": 44,
   "metadata": {
    "collapsed": false
   },
   "outputs": [
    {
     "data": {
      "text/plain": [
       "548806"
      ]
     },
     "execution_count": 44,
     "metadata": {},
     "output_type": "execute_result"
    }
   ],
   "source": [
    "len(df_merged_.index)"
   ]
  },
  {
   "cell_type": "code",
   "execution_count": 45,
   "metadata": {
    "collapsed": false,
    "scrolled": false
   },
   "outputs": [
    {
     "data": {
      "text/plain": [
       "Transact ID            False\n",
       "Transact Date          False\n",
       "Transact Time          False\n",
       "Outlet                 False\n",
       "Outlet District        False\n",
       "Transact Details ID    False\n",
       "Item                   False\n",
       "Item Description_x     False\n",
       "Quantity               False\n",
       "Price                  False\n",
       "Spending               False\n",
       "Transact_DateTime      False\n",
       "customer_id            False\n",
       "age                    False\n",
       "age_group              False\n",
       "time_of_day            False\n",
       "Item Description_y     False\n",
       "Item Type              False\n",
       "Item Category          False\n",
       "dtype: bool"
      ]
     },
     "execution_count": 45,
     "metadata": {},
     "output_type": "execute_result"
    }
   ],
   "source": [
    "df_merged_.isnull().any()"
   ]
  },
  {
   "cell_type": "code",
   "execution_count": 46,
   "metadata": {
    "collapsed": false,
    "scrolled": false
   },
   "outputs": [],
   "source": [
    "df_grouped = df_merged_.groupby(['Transact ID','Item Type']).size()"
   ]
  },
  {
   "cell_type": "code",
   "execution_count": 47,
   "metadata": {
    "collapsed": false,
    "scrolled": true
   },
   "outputs": [],
   "source": [
    "df_merged_['Item Type'] = df_merged_['Item Type'].replace('Beverage','Drink')"
   ]
  },
  {
   "cell_type": "code",
   "execution_count": 48,
   "metadata": {
    "collapsed": false
   },
   "outputs": [
    {
     "data": {
      "text/plain": [
       "Item Type\n",
       "Dessert     27523\n",
       "Drink      187428\n",
       "Main       191887\n",
       "Side       133959\n",
       "Soup         8009\n",
       "dtype: int64"
      ]
     },
     "execution_count": 48,
     "metadata": {},
     "output_type": "execute_result"
    }
   ],
   "source": [
    "df_merged_.groupby(['Item Type']).size()"
   ]
  },
  {
   "cell_type": "code",
   "execution_count": 49,
   "metadata": {
    "collapsed": true
   },
   "outputs": [],
   "source": [
    "df_merged_.to_csv('../data/merged.csv')"
   ]
  },
  {
   "cell_type": "code",
   "execution_count": 50,
   "metadata": {
    "collapsed": false
   },
   "outputs": [],
   "source": [
    "mainWeight = 0.3\n",
    "drinksWeight = 0.3\n",
    "sidesWeight = 0.2\n",
    "dessertWeight = 0.2\n",
    "\n",
    "def noPax(d):\n",
    "    mains = d['Main']\n",
    "    drinks = d['Drink']\n",
    "    sides = d['Side']\n",
    "    dessert = d['Dessert']\n",
    "    soup = d[\"Soup\"]\n",
    "    # Number of mains shall be equal to the number of people.\n",
    "    if mains > 0:\n",
    "        return mains\n",
    "    elif drinks > 0:\n",
    "        return drinks\n",
    "    elif sides > 0:\n",
    "        return sides / 2\n",
    "    elif soup > 0:\n",
    "        return soup / 2\n",
    "    elif dessert > 0:\n",
    "        return dessert\n",
    "\n",
    "# if number of mains\n",
    "#     noPax = mainWeight * d['Main'] + drinksWeight * d['Drinks'] \n",
    "#     + sidesWeight * d['Sides'] + dessertWeight * d['Dessert']\n",
    "#     return noPax"
   ]
  },
  {
   "cell_type": "code",
   "execution_count": 51,
   "metadata": {
    "collapsed": false
   },
   "outputs": [
    {
     "ename": "AttributeError",
     "evalue": "'NoneType' object has no attribute 'ceil'",
     "output_type": "error",
     "traceback": [
      "\u001b[0;31m---------------------------------------------------------------------------\u001b[0m",
      "\u001b[0;31mAttributeError\u001b[0m                            Traceback (most recent call last)",
      "\u001b[0;32m<ipython-input-51-a0519d358e55>\u001b[0m in \u001b[0;36m<module>\u001b[0;34m()\u001b[0m\n\u001b[1;32m     25\u001b[0m     \u001b[0mnumPax\u001b[0m \u001b[0;34m=\u001b[0m \u001b[0mnoPax\u001b[0m\u001b[0;34m(\u001b[0m\u001b[0mnew_dict\u001b[0m\u001b[0;34m)\u001b[0m\u001b[0;34m\u001b[0m\u001b[0m\n\u001b[1;32m     26\u001b[0m \u001b[0;31m#     print(numPax)\u001b[0m\u001b[0;34m\u001b[0m\u001b[0;34m\u001b[0m\u001b[0m\n\u001b[0;32m---> 27\u001b[0;31m     \u001b[0mnumPax\u001b[0m \u001b[0;34m=\u001b[0m \u001b[0mnp\u001b[0m\u001b[0;34m.\u001b[0m\u001b[0mceil\u001b[0m\u001b[0;34m(\u001b[0m\u001b[0mnumPax\u001b[0m\u001b[0;34m)\u001b[0m\u001b[0;34m\u001b[0m\u001b[0m\n\u001b[0m\u001b[1;32m     28\u001b[0m     \u001b[0;32mif\u001b[0m \u001b[0mnumPax\u001b[0m \u001b[0;34m<\u001b[0m \u001b[0;36m1\u001b[0m\u001b[0;34m:\u001b[0m \u001b[0mnumPax\u001b[0m \u001b[0;34m=\u001b[0m \u001b[0;36m1\u001b[0m\u001b[0;34m\u001b[0m\u001b[0m\n\u001b[1;32m     29\u001b[0m     \u001b[0moutput\u001b[0m\u001b[0;34m[\u001b[0m\u001b[0mtransaction\u001b[0m\u001b[0;34m]\u001b[0m \u001b[0;34m=\u001b[0m \u001b[0mnumPax\u001b[0m\u001b[0;34m\u001b[0m\u001b[0m\n",
      "\u001b[0;31mAttributeError\u001b[0m: 'NoneType' object has no attribute 'ceil'"
     ]
    }
   ],
   "source": [
    "output = {}\n",
    "for transaction, subframe in df_grouped.groupby(level=0):\n",
    "    temp_dict = subframe.to_dict()\n",
    "    new_dict = {}\n",
    "    for k1,k2 in temp_dict:\n",
    "        val = temp_dict[(k1,k2)]\n",
    "        new_dict[k2] = val\n",
    "    \n",
    "    if 'Main' not in new_dict: \n",
    "        new_dict['Main'] = 0\n",
    "    \n",
    "    if 'Drink' not in new_dict: \n",
    "        new_dict['Drink'] = 0\n",
    "        \n",
    "    if 'Side' not in new_dict: \n",
    "        new_dict['Side'] = 0\n",
    "        \n",
    "    if 'Dessert' not in new_dict: \n",
    "        new_dict['Dessert'] = 0\n",
    "        \n",
    "    if 'Soup' not in new_dict: \n",
    "        new_dict['Soup'] = 0\n",
    "    \n",
    "#     print(new_dict)\n",
    "    numPax = noPax(new_dict)\n",
    "#     print(numPax)\n",
    "    numPax = np.ceil(numPax)\n",
    "    if numPax < 1: numPax = 1\n",
    "    output[transaction] = numPax\n",
    "    \n",
    "        \n"
   ]
  },
  {
   "cell_type": "code",
   "execution_count": null,
   "metadata": {
    "collapsed": false
   },
   "outputs": [],
   "source": [
    "numpax_df = pd.DataFrame(list(output.items()))"
   ]
  },
  {
   "cell_type": "code",
   "execution_count": null,
   "metadata": {
    "collapsed": false,
    "scrolled": true
   },
   "outputs": [],
   "source": [
    "numpax_df.columns"
   ]
  },
  {
   "cell_type": "code",
   "execution_count": null,
   "metadata": {
    "collapsed": true
   },
   "outputs": [],
   "source": [
    "numpax_df  = numpax_df.rename(columns={0:'transactionId',1:'NumPax'})"
   ]
  },
  {
   "cell_type": "code",
   "execution_count": null,
   "metadata": {
    "collapsed": false
   },
   "outputs": [],
   "source": [
    "numpax_df['transactionId'] = numpax_df['transactionId'].astype(int)\n",
    "numpax_df['NumPax'] = numpax_df['NumPax'].astype(int)"
   ]
  },
  {
   "cell_type": "code",
   "execution_count": null,
   "metadata": {
    "collapsed": false
   },
   "outputs": [],
   "source": [
    "df_merged_.columns"
   ]
  },
  {
   "cell_type": "code",
   "execution_count": null,
   "metadata": {
    "collapsed": false
   },
   "outputs": [],
   "source": [
    "df_merged_final = pd.merge(df_merged_, numpax_df, how='left', left_on='Transact ID', right_on='transactionId'\n",
    "                          )"
   ]
  },
  {
   "cell_type": "code",
   "execution_count": null,
   "metadata": {
    "collapsed": false,
    "scrolled": false
   },
   "outputs": [],
   "source": [
    "# df_merged_final.head()\n",
    "len(df_merged_final.index)"
   ]
  },
  {
   "cell_type": "code",
   "execution_count": null,
   "metadata": {
    "collapsed": false,
    "scrolled": true
   },
   "outputs": [],
   "source": [
    "df_merged_final.columns"
   ]
  },
  {
   "cell_type": "code",
   "execution_count": null,
   "metadata": {
    "collapsed": false
   },
   "outputs": [],
   "source": [
    "# df_merged_total = \n",
    "profile_item_total_df =  df_merged_final.groupby(['age_group',\n",
    "                                                  'time_of_day',\n",
    "                                                  'NumPax'])['Quantity'].sum().reset_index()\n"
   ]
  },
  {
   "cell_type": "code",
   "execution_count": null,
   "metadata": {
    "collapsed": false
   },
   "outputs": [],
   "source": [
    "item_total_df = df_merged_final.groupby(['age_group',\n",
    "                                            'time_of_day',\n",
    "                                            'NumPax',\n",
    "                                            'Item Description_y',\n",
    "                                           'Item Type',\n",
    "                                           'Item Category']).size().reset_index().rename(columns={0:'item_total'})"
   ]
  },
  {
   "cell_type": "code",
   "execution_count": null,
   "metadata": {
    "collapsed": false
   },
   "outputs": [],
   "source": [
    "test_df = pd.merge(profile_item_total_df,item_total_df,how='left',on=['age_group','time_of_day'])"
   ]
  },
  {
   "cell_type": "code",
   "execution_count": null,
   "metadata": {
    "collapsed": false,
    "scrolled": true
   },
   "outputs": [],
   "source": [
    "hello_df = test_df.groupby(['age_group','time_of_day','NumPax_x']).size()"
   ]
  },
  {
   "cell_type": "code",
   "execution_count": null,
   "metadata": {
    "collapsed": true
   },
   "outputs": [],
   "source": [
    "test_df = test_df.rename(columns={'NumPax_x':'numpax','Item Description_y':'item_dec'})"
   ]
  },
  {
   "cell_type": "code",
   "execution_count": null,
   "metadata": {
    "collapsed": false
   },
   "outputs": [],
   "source": [
    "del test_df['NumPax_y']"
   ]
  },
  {
   "cell_type": "code",
   "execution_count": null,
   "metadata": {
    "collapsed": true
   },
   "outputs": [],
   "source": [
    "test_df['uscore'] = test_df['item_total'] / test_df['Quantity']"
   ]
  },
  {
   "cell_type": "code",
   "execution_count": null,
   "metadata": {
    "collapsed": false
   },
   "outputs": [],
   "source": [
    "test_df.to_csv('uscore.csv')"
   ]
  },
  {
   "cell_type": "code",
   "execution_count": null,
   "metadata": {
    "collapsed": false
   },
   "outputs": [],
   "source": [
    "df_merged_final.columns"
   ]
  },
  {
   "cell_type": "code",
   "execution_count": null,
   "metadata": {
    "collapsed": true
   },
   "outputs": [],
   "source": [
    "df_merged_final.to_csv('merged_final.csv')"
   ]
  },
  {
   "cell_type": "code",
   "execution_count": null,
   "metadata": {
    "collapsed": false
   },
   "outputs": [],
   "source": [
    "# uscore_dict = {}\n",
    "# for row in df_merged_final.iterrows():\n",
    "#     row_details = row[1]\n",
    "#     t_details_id = row_details['Transact Details ID']\n",
    "#     age_group = row_details['age_group']\n",
    "#     tod = row_details['time_of_day']\n",
    "#     numpax = row_details['NumPax']\n",
    "#     item_desc = row_details['Item Description_y']\n",
    "#     item_type = row_details['Item Type']\n",
    "#     item_cat = row_details['Item Category']\n",
    "    \n",
    "#     item_total = item_total_df['item_total'].ix[(item_total_df['age_group'] == age_group) &\n",
    "#                                                (item_total_df['time_of_day'] == tod) &\n",
    "#                                                (item_total_df['NumPax'] == numpax) &\n",
    "#                                                (item_total_df['Item Description_y'] == item_desc) &\n",
    "#                                                (item_total_df['Item Type'] == item_type) &\n",
    "#                                                (item_total_df['Item Category'] == item_cat)].item()\n",
    "    \n",
    "#     profile_total = profile_item_total_df['Quantity'].ix[(profile_item_total_df['age_group'] == age_group) &\n",
    "#                                                          (profile_item_total_df['time_of_day'] == tod) &\n",
    "#                                                          (profile_item_total_df['NumPax'] == numpax)].item()\n",
    "# #     print(item_total)\n",
    "# #     print(profile_total)\n",
    "#     uscore_dict[t_details_id] = item_total / profile_total"
   ]
  },
  {
   "cell_type": "code",
   "execution_count": null,
   "metadata": {
    "collapsed": true
   },
   "outputs": [],
   "source": []
  },
  {
   "cell_type": "code",
   "execution_count": null,
   "metadata": {
    "collapsed": false
   },
   "outputs": [],
   "source": [
    "df_merged_output.groupby()"
   ]
  }
 ],
 "metadata": {
  "kernelspec": {
   "display_name": "Python 3",
   "language": "python",
   "name": "python3"
  },
  "language_info": {
   "codemirror_mode": {
    "name": "ipython",
    "version": 3
   },
   "file_extension": ".py",
   "mimetype": "text/x-python",
   "name": "python",
   "nbconvert_exporter": "python",
   "pygments_lexer": "ipython3",
   "version": "3.5.3"
  }
 },
 "nbformat": 4,
 "nbformat_minor": 2
}
