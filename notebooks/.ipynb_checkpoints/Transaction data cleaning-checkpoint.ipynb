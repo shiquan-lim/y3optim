{
 "cells": [
  {
   "cell_type": "markdown",
   "metadata": {},
   "source": [
    "Ice Lemon Tea -> 769\n",
    "Iced Grass Jelly -> 780\n",
    "Iced Milk Tea -> 751\n",
    "Hot Coffee-Tea -> 713\n",
    "Fried Rice -> 549\n"
   ]
  },
  {
   "cell_type": "code",
   "execution_count": 1,
   "metadata": {
    "collapsed": true
   },
   "outputs": [],
   "source": [
    "import pandas as pd\n",
    "import numpy as np"
   ]
  },
  {
   "cell_type": "code",
   "execution_count": 2,
   "metadata": {
    "collapsed": true
   },
   "outputs": [],
   "source": [
    "path = '../data/'\n",
    "file = path + 'item_table_w_cost.csv'"
   ]
  },
  {
   "cell_type": "code",
   "execution_count": 5,
   "metadata": {
    "collapsed": false
   },
   "outputs": [],
   "source": [
    "df = pd.read_csv(file)"
   ]
  },
  {
   "cell_type": "code",
   "execution_count": 6,
   "metadata": {
    "collapsed": false
   },
   "outputs": [
    {
     "data": {
      "text/plain": [
       "Index(['Item', 'Item Description', 'Item Type', 'Item Category', 'Price'], dtype='object')"
      ]
     },
     "execution_count": 6,
     "metadata": {},
     "output_type": "execute_result"
    }
   ],
   "source": [
    "df.columns"
   ]
  },
  {
   "cell_type": "code",
   "execution_count": 16,
   "metadata": {
    "collapsed": true
   },
   "outputs": [],
   "source": [
    "g = df.groupby(['Item Description']).size().reset_index()"
   ]
  },
  {
   "cell_type": "code",
   "execution_count": 17,
   "metadata": {
    "collapsed": false,
    "scrolled": true
   },
   "outputs": [
    {
     "data": {
      "text/html": [
       "<div>\n",
       "<table border=\"1\" class=\"dataframe\">\n",
       "  <thead>\n",
       "    <tr style=\"text-align: right;\">\n",
       "      <th></th>\n",
       "      <th>Item Description</th>\n",
       "      <th>0</th>\n",
       "    </tr>\n",
       "  </thead>\n",
       "  <tbody>\n",
       "    <tr>\n",
       "      <th>80</th>\n",
       "      <td>Iced Lemon Tea</td>\n",
       "      <td>3</td>\n",
       "    </tr>\n",
       "    <tr>\n",
       "      <th>78</th>\n",
       "      <td>Iced Grass Jelly</td>\n",
       "      <td>2</td>\n",
       "    </tr>\n",
       "    <tr>\n",
       "      <th>82</th>\n",
       "      <td>Iced Milk Tea</td>\n",
       "      <td>2</td>\n",
       "    </tr>\n",
       "    <tr>\n",
       "      <th>71</th>\n",
       "      <td>Hot Coffee-Tea</td>\n",
       "      <td>2</td>\n",
       "    </tr>\n",
       "    <tr>\n",
       "      <th>133</th>\n",
       "      <td>Signature Fried Rice</td>\n",
       "      <td>2</td>\n",
       "    </tr>\n",
       "    <tr>\n",
       "      <th>106</th>\n",
       "      <td>Peach Ice-blended</td>\n",
       "      <td>1</td>\n",
       "    </tr>\n",
       "    <tr>\n",
       "      <th>100</th>\n",
       "      <td>Milo</td>\n",
       "      <td>1</td>\n",
       "    </tr>\n",
       "    <tr>\n",
       "      <th>101</th>\n",
       "      <td>Minced Kai Lan W Silver Fish</td>\n",
       "      <td>1</td>\n",
       "    </tr>\n",
       "    <tr>\n",
       "      <th>102</th>\n",
       "      <td>Mush Bk Rice</td>\n",
       "      <td>1</td>\n",
       "    </tr>\n",
       "    <tr>\n",
       "      <th>103</th>\n",
       "      <td>Mushroom Cream Spag</td>\n",
       "      <td>1</td>\n",
       "    </tr>\n",
       "    <tr>\n",
       "      <th>104</th>\n",
       "      <td>Pan Fried Dumpling</td>\n",
       "      <td>1</td>\n",
       "    </tr>\n",
       "    <tr>\n",
       "      <th>105</th>\n",
       "      <td>Paoched Lettuce</td>\n",
       "      <td>1</td>\n",
       "    </tr>\n",
       "    <tr>\n",
       "      <th>109</th>\n",
       "      <td>Pork Chop Bk Rice</td>\n",
       "      <td>1</td>\n",
       "    </tr>\n",
       "    <tr>\n",
       "      <th>107</th>\n",
       "      <td>Peanut Butter Milk Thick Toast</td>\n",
       "      <td>1</td>\n",
       "    </tr>\n",
       "    <tr>\n",
       "      <th>108</th>\n",
       "      <td>Pork Chop Bee Hoon</td>\n",
       "      <td>1</td>\n",
       "    </tr>\n",
       "    <tr>\n",
       "      <th>110</th>\n",
       "      <td>Pork Chop Frag Rice</td>\n",
       "      <td>1</td>\n",
       "    </tr>\n",
       "    <tr>\n",
       "      <th>111</th>\n",
       "      <td>Pork Chop Noodle</td>\n",
       "      <td>1</td>\n",
       "    </tr>\n",
       "    <tr>\n",
       "      <th>112</th>\n",
       "      <td>Pork N Century Egg Congee</td>\n",
       "      <td>1</td>\n",
       "    </tr>\n",
       "    <tr>\n",
       "      <th>113</th>\n",
       "      <td>Prawn Paste Chicken</td>\n",
       "      <td>1</td>\n",
       "    </tr>\n",
       "    <tr>\n",
       "      <th>114</th>\n",
       "      <td>Pumpkin Chix Chop Rice</td>\n",
       "      <td>1</td>\n",
       "    </tr>\n",
       "    <tr>\n",
       "      <th>99</th>\n",
       "      <td>Milk Tea</td>\n",
       "      <td>1</td>\n",
       "    </tr>\n",
       "    <tr>\n",
       "      <th>0</th>\n",
       "      <td>AlmondCream Glutinous Ball</td>\n",
       "      <td>1</td>\n",
       "    </tr>\n",
       "    <tr>\n",
       "      <th>98</th>\n",
       "      <td>Mango SnowIce</td>\n",
       "      <td>1</td>\n",
       "    </tr>\n",
       "    <tr>\n",
       "      <th>115</th>\n",
       "      <td>RAINBOW SPRITE</td>\n",
       "      <td>1</td>\n",
       "    </tr>\n",
       "    <tr>\n",
       "      <th>81</th>\n",
       "      <td>Iced Lychee Tea</td>\n",
       "      <td>1</td>\n",
       "    </tr>\n",
       "    <tr>\n",
       "      <th>83</th>\n",
       "      <td>Iced Milk Tea Float</td>\n",
       "      <td>1</td>\n",
       "    </tr>\n",
       "    <tr>\n",
       "      <th>84</th>\n",
       "      <td>Iced Peach Tea</td>\n",
       "      <td>1</td>\n",
       "    </tr>\n",
       "    <tr>\n",
       "      <th>85</th>\n",
       "      <td>Iced Soy Milk</td>\n",
       "      <td>1</td>\n",
       "    </tr>\n",
       "    <tr>\n",
       "      <th>86</th>\n",
       "      <td>Iced Yuzu Tea</td>\n",
       "      <td>1</td>\n",
       "    </tr>\n",
       "    <tr>\n",
       "      <th>87</th>\n",
       "      <td>Kaya Butter Bread</td>\n",
       "      <td>1</td>\n",
       "    </tr>\n",
       "    <tr>\n",
       "      <th>...</th>\n",
       "      <td>...</td>\n",
       "      <td>...</td>\n",
       "    </tr>\n",
       "    <tr>\n",
       "      <th>65</th>\n",
       "      <td>HONEY CHICKEN WING (5pcs)</td>\n",
       "      <td>1</td>\n",
       "    </tr>\n",
       "    <tr>\n",
       "      <th>66</th>\n",
       "      <td>Ham &amp; Egg Soup Ndl</td>\n",
       "      <td>1</td>\n",
       "    </tr>\n",
       "    <tr>\n",
       "      <th>67</th>\n",
       "      <td>Ham Egg Toast N French Fries</td>\n",
       "      <td>1</td>\n",
       "    </tr>\n",
       "    <tr>\n",
       "      <th>68</th>\n",
       "      <td>Har Gao</td>\n",
       "      <td>1</td>\n",
       "    </tr>\n",
       "    <tr>\n",
       "      <th>69</th>\n",
       "      <td>Home-Made Cold Beancurd</td>\n",
       "      <td>1</td>\n",
       "    </tr>\n",
       "    <tr>\n",
       "      <th>70</th>\n",
       "      <td>Homemade Cold Beancurd</td>\n",
       "      <td>1</td>\n",
       "    </tr>\n",
       "    <tr>\n",
       "      <th>72</th>\n",
       "      <td>Hot Honey Green Tea</td>\n",
       "      <td>1</td>\n",
       "    </tr>\n",
       "    <tr>\n",
       "      <th>73</th>\n",
       "      <td>Hot Honey with Lemon</td>\n",
       "      <td>1</td>\n",
       "    </tr>\n",
       "    <tr>\n",
       "      <th>74</th>\n",
       "      <td>ICED MILO FLOAT</td>\n",
       "      <td>1</td>\n",
       "    </tr>\n",
       "    <tr>\n",
       "      <th>75</th>\n",
       "      <td>Ice Milo Dinosaur</td>\n",
       "      <td>1</td>\n",
       "    </tr>\n",
       "    <tr>\n",
       "      <th>59</th>\n",
       "      <td>Fresh  Lime Juice</td>\n",
       "      <td>1</td>\n",
       "    </tr>\n",
       "    <tr>\n",
       "      <th>57</th>\n",
       "      <td>Fish Slice Por</td>\n",
       "      <td>1</td>\n",
       "    </tr>\n",
       "    <tr>\n",
       "      <th>40</th>\n",
       "      <td>Coke Float (Promo)</td>\n",
       "      <td>1</td>\n",
       "    </tr>\n",
       "    <tr>\n",
       "      <th>56</th>\n",
       "      <td>Fish Slice Muifan</td>\n",
       "      <td>1</td>\n",
       "    </tr>\n",
       "    <tr>\n",
       "      <th>41</th>\n",
       "      <td>Cold / Iced Water</td>\n",
       "      <td>1</td>\n",
       "    </tr>\n",
       "    <tr>\n",
       "      <th>42</th>\n",
       "      <td>Custard Bun</td>\n",
       "      <td>1</td>\n",
       "    </tr>\n",
       "    <tr>\n",
       "      <th>43</th>\n",
       "      <td>Deep Fried Prawn (3pcs)</td>\n",
       "      <td>1</td>\n",
       "    </tr>\n",
       "    <tr>\n",
       "      <th>44</th>\n",
       "      <td>Deep-fried Prawns with Mango sauce</td>\n",
       "      <td>1</td>\n",
       "    </tr>\n",
       "    <tr>\n",
       "      <th>45</th>\n",
       "      <td>Diced Pork Fried Rice</td>\n",
       "      <td>1</td>\n",
       "    </tr>\n",
       "    <tr>\n",
       "      <th>46</th>\n",
       "      <td>Egg &amp; Ham Sandwich</td>\n",
       "      <td>1</td>\n",
       "    </tr>\n",
       "    <tr>\n",
       "      <th>47</th>\n",
       "      <td>F'mented Pork Dry Curry Ramen</td>\n",
       "      <td>1</td>\n",
       "    </tr>\n",
       "    <tr>\n",
       "      <th>48</th>\n",
       "      <td>F.Fries Curry Mayo</td>\n",
       "      <td>1</td>\n",
       "    </tr>\n",
       "    <tr>\n",
       "      <th>49</th>\n",
       "      <td>F.Toast Chicken Floss</td>\n",
       "      <td>1</td>\n",
       "    </tr>\n",
       "    <tr>\n",
       "      <th>50</th>\n",
       "      <td>F.Toast Ice Cream</td>\n",
       "      <td>1</td>\n",
       "    </tr>\n",
       "    <tr>\n",
       "      <th>51</th>\n",
       "      <td>Fermented Pork Dry Noodle</td>\n",
       "      <td>1</td>\n",
       "    </tr>\n",
       "    <tr>\n",
       "      <th>52</th>\n",
       "      <td>Fish &amp; Chips</td>\n",
       "      <td>1</td>\n",
       "    </tr>\n",
       "    <tr>\n",
       "      <th>53</th>\n",
       "      <td>Fish Bk Rice</td>\n",
       "      <td>1</td>\n",
       "    </tr>\n",
       "    <tr>\n",
       "      <th>54</th>\n",
       "      <td>Fish Fillet Spag</td>\n",
       "      <td>1</td>\n",
       "    </tr>\n",
       "    <tr>\n",
       "      <th>55</th>\n",
       "      <td>Fish Papaya Soup Beehoon</td>\n",
       "      <td>1</td>\n",
       "    </tr>\n",
       "    <tr>\n",
       "      <th>154</th>\n",
       "      <td>Yuzu Tea</td>\n",
       "      <td>1</td>\n",
       "    </tr>\n",
       "  </tbody>\n",
       "</table>\n",
       "<p>155 rows × 2 columns</p>\n",
       "</div>"
      ],
      "text/plain": [
       "                       Item Description  0\n",
       "80                       Iced Lemon Tea  3\n",
       "78                     Iced Grass Jelly  2\n",
       "82                        Iced Milk Tea  2\n",
       "71                       Hot Coffee-Tea  2\n",
       "133                Signature Fried Rice  2\n",
       "106                   Peach Ice-blended  1\n",
       "100                                Milo  1\n",
       "101        Minced Kai Lan W Silver Fish  1\n",
       "102                        Mush Bk Rice  1\n",
       "103                 Mushroom Cream Spag  1\n",
       "104                  Pan Fried Dumpling  1\n",
       "105                     Paoched Lettuce  1\n",
       "109                   Pork Chop Bk Rice  1\n",
       "107      Peanut Butter Milk Thick Toast  1\n",
       "108                  Pork Chop Bee Hoon  1\n",
       "110                 Pork Chop Frag Rice  1\n",
       "111                    Pork Chop Noodle  1\n",
       "112           Pork N Century Egg Congee  1\n",
       "113                 Prawn Paste Chicken  1\n",
       "114              Pumpkin Chix Chop Rice  1\n",
       "99                             Milk Tea  1\n",
       "0            AlmondCream Glutinous Ball  1\n",
       "98                        Mango SnowIce  1\n",
       "115                      RAINBOW SPRITE  1\n",
       "81                      Iced Lychee Tea  1\n",
       "83                  Iced Milk Tea Float  1\n",
       "84                       Iced Peach Tea  1\n",
       "85                        Iced Soy Milk  1\n",
       "86                        Iced Yuzu Tea  1\n",
       "87                    Kaya Butter Bread  1\n",
       "..                                  ... ..\n",
       "65            HONEY CHICKEN WING (5pcs)  1\n",
       "66                   Ham & Egg Soup Ndl  1\n",
       "67         Ham Egg Toast N French Fries  1\n",
       "68                              Har Gao  1\n",
       "69              Home-Made Cold Beancurd  1\n",
       "70               Homemade Cold Beancurd  1\n",
       "72                  Hot Honey Green Tea  1\n",
       "73                 Hot Honey with Lemon  1\n",
       "74                      ICED MILO FLOAT  1\n",
       "75                    Ice Milo Dinosaur  1\n",
       "59                    Fresh  Lime Juice  1\n",
       "57                       Fish Slice Por  1\n",
       "40                   Coke Float (Promo)  1\n",
       "56                    Fish Slice Muifan  1\n",
       "41                    Cold / Iced Water  1\n",
       "42                          Custard Bun  1\n",
       "43              Deep Fried Prawn (3pcs)  1\n",
       "44   Deep-fried Prawns with Mango sauce  1\n",
       "45                Diced Pork Fried Rice  1\n",
       "46                   Egg & Ham Sandwich  1\n",
       "47        F'mented Pork Dry Curry Ramen  1\n",
       "48                   F.Fries Curry Mayo  1\n",
       "49                F.Toast Chicken Floss  1\n",
       "50                    F.Toast Ice Cream  1\n",
       "51            Fermented Pork Dry Noodle  1\n",
       "52                         Fish & Chips  1\n",
       "53                         Fish Bk Rice  1\n",
       "54                     Fish Fillet Spag  1\n",
       "55             Fish Papaya Soup Beehoon  1\n",
       "154                            Yuzu Tea  1\n",
       "\n",
       "[155 rows x 2 columns]"
      ]
     },
     "execution_count": 17,
     "metadata": {},
     "output_type": "execute_result"
    }
   ],
   "source": [
    "g.sort_values(0,ascending=False)"
   ]
  },
  {
   "cell_type": "code",
   "execution_count": 10,
   "metadata": {
    "collapsed": false
   },
   "outputs": [],
   "source": [
    "# Transaction table\n",
    "tfile = path + 'data.csv'\n",
    "tdf = pd.read_csv(tfile)"
   ]
  },
  {
   "cell_type": "code",
   "execution_count": 11,
   "metadata": {
    "collapsed": false,
    "scrolled": true
   },
   "outputs": [
    {
     "data": {
      "text/plain": [
       "Index(['Customer ID', 'Age', 'Gender', 'Transact ID', 'Transact Date',\n",
       "       'Transact Time', 'Outlet', 'Outlet District', 'Transact Details ID',\n",
       "       'Item', 'Item Description', 'Quantity', 'Price', 'Spending'],\n",
       "      dtype='object')"
      ]
     },
     "execution_count": 11,
     "metadata": {},
     "output_type": "execute_result"
    }
   ],
   "source": [
    "tdf.columns"
   ]
  },
  {
   "cell_type": "code",
   "execution_count": 20,
   "metadata": {
    "collapsed": false
   },
   "outputs": [],
   "source": [
    "# Ice Lemon Tea\n",
    "ilt_mask = (tdf['Item Description'] == 'Iced Lemon Tea')\n",
    "ilt_valid = tdf[ilt_mask]\n",
    "\n",
    "# Change item id\n",
    "tdf.loc[ilt_mask,'Item'] = 769\n",
    "# Change Price\n",
    "tdf.loc[ilt_mask,'Price'] = 5.94"
   ]
  },
  {
   "cell_type": "code",
   "execution_count": 26,
   "metadata": {
    "collapsed": false
   },
   "outputs": [
    {
     "data": {
      "text/plain": [
       "array([ 5.94])"
      ]
     },
     "execution_count": 26,
     "metadata": {},
     "output_type": "execute_result"
    }
   ],
   "source": [
    "tdf.ix[tdf['Item Description'] == 'Iced Lemon Tea']['Price'].unique()"
   ]
  },
  {
   "cell_type": "code",
   "execution_count": 27,
   "metadata": {
    "collapsed": true
   },
   "outputs": [],
   "source": [
    "igj_mask = (tdf['Item Description'] == 'Iced Grass Jelly')\n",
    "igj_valid = tdf[igj_mask]\n",
    "\n",
    "tdf.loc[igj_mask,'Item'] = 780\n",
    "tdf.loc[igj_mask,'Price'] = 3.52"
   ]
  },
  {
   "cell_type": "code",
   "execution_count": 29,
   "metadata": {
    "collapsed": false,
    "scrolled": true
   },
   "outputs": [
    {
     "data": {
      "text/plain": [
       "array([780], dtype=object)"
      ]
     },
     "execution_count": 29,
     "metadata": {},
     "output_type": "execute_result"
    }
   ],
   "source": [
    "tdf.ix[tdf['Item Description'] == 'Iced Grass Jelly']['Item'].unique()"
   ]
  },
  {
   "cell_type": "code",
   "execution_count": 30,
   "metadata": {
    "collapsed": true
   },
   "outputs": [],
   "source": [
    "imt_mask = (tdf['Item Description'] == 'Iced Milk Tea')\n",
    "imt_valid = tdf[imt_mask]\n",
    "\n",
    "tdf.loc[imt_mask,'Item'] = 751\n",
    "tdf.loc[imt_mask,'Price'] = 4.73"
   ]
  },
  {
   "cell_type": "code",
   "execution_count": 32,
   "metadata": {
    "collapsed": false
   },
   "outputs": [
    {
     "data": {
      "text/plain": [
       "array([ 4.73])"
      ]
     },
     "execution_count": 32,
     "metadata": {},
     "output_type": "execute_result"
    }
   ],
   "source": [
    "tdf.ix[tdf['Item Description'] == 'Iced Milk Tea']['Price'].unique()"
   ]
  },
  {
   "cell_type": "code",
   "execution_count": 33,
   "metadata": {
    "collapsed": true
   },
   "outputs": [],
   "source": [
    "imt_mask = (tdf['Item Description'] == 'Hot Coffee-Tea')\n",
    "imt_valid = tdf[imt_mask]\n",
    "\n",
    "tdf.loc[imt_mask,'Item'] = 713\n",
    "tdf.loc[imt_mask,'Price'] = 4.24"
   ]
  },
  {
   "cell_type": "code",
   "execution_count": 35,
   "metadata": {
    "collapsed": false,
    "scrolled": true
   },
   "outputs": [
    {
     "data": {
      "text/plain": [
       "array([713], dtype=object)"
      ]
     },
     "execution_count": 35,
     "metadata": {},
     "output_type": "execute_result"
    }
   ],
   "source": [
    "tdf.ix[tdf['Item Description'] == 'Hot Coffee-Tea']['Item'].unique()"
   ]
  },
  {
   "cell_type": "code",
   "execution_count": 36,
   "metadata": {
    "collapsed": true
   },
   "outputs": [],
   "source": [
    "imt_mask = (tdf['Item Description'] == 'Signature Fried Rice')\n",
    "imt_valid = tdf[imt_mask]\n",
    "\n",
    "tdf.loc[imt_mask,'Item'] = 549\n",
    "tdf.loc[imt_mask,'Price'] = 13.94"
   ]
  },
  {
   "cell_type": "code",
   "execution_count": 38,
   "metadata": {
    "collapsed": false
   },
   "outputs": [
    {
     "data": {
      "text/plain": [
       "array([ 13.94])"
      ]
     },
     "execution_count": 38,
     "metadata": {},
     "output_type": "execute_result"
    }
   ],
   "source": [
    "tdf.ix[tdf['Item Description'] == 'Signature Fried Rice']['Price'].unique()"
   ]
  },
  {
   "cell_type": "code",
   "execution_count": 39,
   "metadata": {
    "collapsed": true
   },
   "outputs": [],
   "source": [
    "tdf.to_csv(path+'data_final.csv')"
   ]
  },
  {
   "cell_type": "code",
   "execution_count": 42,
   "metadata": {
    "collapsed": true
   },
   "outputs": [],
   "source": [
    "temp = path +'output/'+'ADULT_BREAKFAST_COUPLE.csv'\n",
    "df = pd.read_csv(temp)"
   ]
  },
  {
   "cell_type": "code",
   "execution_count": 43,
   "metadata": {
    "collapsed": false
   },
   "outputs": [
    {
     "data": {
      "text/html": [
       "<div>\n",
       "<table border=\"1\" class=\"dataframe\">\n",
       "  <thead>\n",
       "    <tr style=\"text-align: right;\">\n",
       "      <th></th>\n",
       "      <th>a</th>\n",
       "      <th>b</th>\n",
       "      <th>c</th>\n",
       "      <th>d</th>\n",
       "      <th>e</th>\n",
       "    </tr>\n",
       "  </thead>\n",
       "  <tbody>\n",
       "    <tr>\n",
       "      <th>0</th>\n",
       "      <td>6</td>\n",
       "      <td>1515</td>\n",
       "      <td>Main</td>\n",
       "      <td>Baked Rice;Beef</td>\n",
       "      <td>BAKED RICE CURRY SLICED BEEF</td>\n",
       "    </tr>\n",
       "    <tr>\n",
       "      <th>1</th>\n",
       "      <td>116</td>\n",
       "      <td>1515</td>\n",
       "      <td>Main</td>\n",
       "      <td>BakedRice;Seafood</td>\n",
       "      <td>BAKED RICE EBI</td>\n",
       "    </tr>\n",
       "    <tr>\n",
       "      <th>2</th>\n",
       "      <td>192</td>\n",
       "      <td>545</td>\n",
       "      <td>Side</td>\n",
       "      <td>Dimsum;Pork</td>\n",
       "      <td>BBQ Pork Bun</td>\n",
       "    </tr>\n",
       "    <tr>\n",
       "      <th>3</th>\n",
       "      <td>6</td>\n",
       "      <td>1515</td>\n",
       "      <td>Main</td>\n",
       "      <td>Bakedrice;Beef</td>\n",
       "      <td>BP Beef Bk Rice</td>\n",
       "    </tr>\n",
       "    <tr>\n",
       "      <th>4</th>\n",
       "      <td>13</td>\n",
       "      <td>1273</td>\n",
       "      <td>Main</td>\n",
       "      <td>Western;Chicken</td>\n",
       "      <td>BP Chicken Chop</td>\n",
       "    </tr>\n",
       "  </tbody>\n",
       "</table>\n",
       "</div>"
      ],
      "text/plain": [
       "     a     b     c                  d                             e\n",
       "0    6  1515  Main    Baked Rice;Beef  BAKED RICE CURRY SLICED BEEF\n",
       "1  116  1515  Main  BakedRice;Seafood                BAKED RICE EBI\n",
       "2  192   545  Side        Dimsum;Pork                  BBQ Pork Bun\n",
       "3    6  1515  Main     Bakedrice;Beef               BP Beef Bk Rice\n",
       "4   13  1273  Main    Western;Chicken               BP Chicken Chop"
      ]
     },
     "execution_count": 43,
     "metadata": {},
     "output_type": "execute_result"
    }
   ],
   "source": [
    "g = df.groupby(['e']).size().reset_index()"
   ]
  }
 ],
 "metadata": {
  "kernelspec": {
   "display_name": "Python 3",
   "language": "python",
   "name": "python3"
  },
  "language_info": {
   "codemirror_mode": {
    "name": "ipython",
    "version": 3
   },
   "file_extension": ".py",
   "mimetype": "text/x-python",
   "name": "python",
   "nbconvert_exporter": "python",
   "pygments_lexer": "ipython3",
   "version": "3.5.3"
  }
 },
 "nbformat": 4,
 "nbformat_minor": 2
}
